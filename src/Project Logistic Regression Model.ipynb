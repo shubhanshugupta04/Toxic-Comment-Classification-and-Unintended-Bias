{
 "cells": [
  {
   "cell_type": "markdown",
   "metadata": {},
   "source": [
    "# Logistic Regression Classifier"
   ]
  },
  {
   "cell_type": "code",
   "execution_count": 1,
   "metadata": {},
   "outputs": [],
   "source": [
    "import numpy as np\n",
    "import pandas as pd\n",
    "from sklearn.feature_extraction.text import TfidfVectorizer\n",
    "from sklearn.linear_model import LogisticRegression\n",
    "from sklearn.model_selection import train_test_split\n",
    "from sklearn.feature_extraction.text import TfidfVectorizer\n",
    "from sklearn.metrics import accuracy_score, classification_report, confusion_matrix\n",
    "from sklearn.model_selection import train_test_split, cross_val_score\n"
   ]
  },
  {
   "cell_type": "code",
   "execution_count": 2,
   "metadata": {},
   "outputs": [],
   "source": [
    "# read the datasets \n",
    "train = pd.read_csv(r\"D:/NEU/Fall 2020/NLP/Project/train.csv\")\n",
    "test = pd.read_csv(r\"D:/NEU/Fall 2020/NLP/Project/test.csv\")\n",
    "submission_binary = pd.read_csv(r\"D:/NEU/Fall 2020/NLP/Project/sample_submission.csv\")"
   ]
  },
  {
   "cell_type": "code",
   "execution_count": 3,
   "metadata": {},
   "outputs": [],
   "source": [
    "# vectorize data using tf_idf vectorizer\n",
    "# for unigram vectorization\n",
    "\n",
    "Vectorize = TfidfVectorizer(max_df = 0.8, ngram_range = (1,1))\n",
    "X = Vectorize.fit_transform(train[\"comment_text\"])\n",
    "\n",
    "# binarize the target label\n",
    "# positive class is 'toxic' class\n",
    "y = np.where(train['target'] >= 0.5, 1, 0)\n",
    "test_X = Vectorize.transform(test[\"comment_text\"])\n"
   ]
  },
  {
   "cell_type": "code",
   "execution_count": 4,
   "metadata": {},
   "outputs": [],
   "source": [
    "# split training set into 80% training and 20% validation sets\n",
    "\n",
    "X_train, X_test, y_train, y_test = train_test_split(X, y, test_size=0.2)\n"
   ]
  },
  {
   "cell_type": "code",
   "execution_count": 5,
   "metadata": {},
   "outputs": [],
   "source": [
    "# logistic regression model \n",
    "\n",
    "log = LogisticRegression(solver='sag', max_iter=1000, n_jobs=-1)\n",
    "log.fit(X_train, y_train)\n",
    "y_pred = log.predict(X_test)"
   ]
  },
  {
   "cell_type": "code",
   "execution_count": 6,
   "metadata": {},
   "outputs": [
    {
     "name": "stdout",
     "output_type": "stream",
     "text": [
      "0.9474174111780594\n"
     ]
    }
   ],
   "source": [
    "# accuracy score of the model\n",
    "print(accuracy_score(y_test, y_pred))\n"
   ]
  },
  {
   "cell_type": "markdown",
   "metadata": {},
   "source": [
    "**accuracy of the logistic regression model is 94.7%**"
   ]
  },
  {
   "cell_type": "code",
   "execution_count": 8,
   "metadata": {},
   "outputs": [
    {
     "name": "stdout",
     "output_type": "stream",
     "text": [
      "Confusion matrix of the classifier\n",
      "[[328612   3545]\n",
      " [ 15436  13382]]\n",
      "Advanced metrics\n",
      "              precision    recall  f1-score   support\n",
      "\n",
      "           0       0.96      0.99      0.97    332157\n",
      "           1       0.79      0.46      0.59     28818\n",
      "\n",
      "    accuracy                           0.95    360975\n",
      "   macro avg       0.87      0.73      0.78    360975\n",
      "weighted avg       0.94      0.95      0.94    360975\n",
      "\n"
     ]
    }
   ],
   "source": [
    "# confusion martix\n",
    "from sklearn import metrics\n",
    "\n",
    "print('Confusion matrix of the classifier')\n",
    "print(metrics.confusion_matrix(y_test, y_pred, labels=[0,1]))\n",
    "\n",
    "print('Advanced metrics')\n",
    "print(metrics.classification_report(y_test, y_pred, labels=[0,1]))\n",
    "\n"
   ]
  },
  {
   "cell_type": "code",
   "execution_count": 13,
   "metadata": {},
   "outputs": [
    {
     "data": {
      "text/plain": [
       "Counter({0: 332157, 1: 28818})"
      ]
     },
     "execution_count": 13,
     "metadata": {},
     "output_type": "execute_result"
    }
   ],
   "source": [
    "import collections, numpy\n",
    "\n",
    "collections.Counter(y_test)\n"
   ]
  },
  {
   "cell_type": "markdown",
   "metadata": {},
   "source": [
    "There are 28818 toxic comments and 332157 non-toxic comments"
   ]
  },
  {
   "cell_type": "markdown",
   "metadata": {},
   "source": [
    "**The precision for toxic class is 0.79 whereas the recall for positive class is 0.46 which implies that more than half \n",
    "the toxic comments have been labeled as non-toxic which is undesirable**"
   ]
  },
  {
   "cell_type": "code",
   "execution_count": null,
   "metadata": {},
   "outputs": [],
   "source": []
  }
 ],
 "metadata": {
  "kernelspec": {
   "display_name": "Python 3",
   "language": "python",
   "name": "python3"
  },
  "language_info": {
   "codemirror_mode": {
    "name": "ipython",
    "version": 3
   },
   "file_extension": ".py",
   "mimetype": "text/x-python",
   "name": "python",
   "nbconvert_exporter": "python",
   "pygments_lexer": "ipython3",
   "version": "3.7.4"
  }
 },
 "nbformat": 4,
 "nbformat_minor": 2
}
