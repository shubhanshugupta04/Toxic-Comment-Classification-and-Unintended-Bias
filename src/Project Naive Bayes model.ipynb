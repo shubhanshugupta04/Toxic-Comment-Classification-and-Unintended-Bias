{
 "cells": [
  {
   "cell_type": "code",
   "execution_count": 1,
   "metadata": {},
   "outputs": [],
   "source": [
    "import pandas as pd\n",
    "import numpy as np\n",
    "\n",
    "import keras\n",
    "from keras.preprocessing.text import Tokenizer\n",
    "from keras.preprocessing.text import text_to_word_sequence\n",
    "\n",
    "from sklearn import metrics\n",
    "from sklearn import model_selection\n",
    "\n",
    "import time"
   ]
  },
  {
   "cell_type": "markdown",
   "metadata": {},
   "source": [
    "# Naive Bayes Classification "
   ]
  },
  {
   "cell_type": "code",
   "execution_count": 2,
   "metadata": {},
   "outputs": [],
   "source": [
    "TEXT_COL = 'comment_text'\n",
    "LABEL_COL = 'target'\n"
   ]
  },
  {
   "cell_type": "code",
   "execution_count": 3,
   "metadata": {},
   "outputs": [],
   "source": [
    "# helper function to read the dataset and split data into train and validation sets\n",
    "def read_data(file_path):\n",
    "    print(\"read the data\")\n",
    "    start = time.time()\n",
    "\n",
    "    data = pd.read_csv(file_path)\n",
    "\n",
    "    # convert commnets to string data type\n",
    "    data[TEXT_COL] = data[TEXT_COL].astype(str)\n",
    "\n",
    "    # label the data i.e. all comments with toxicity score more or equal to 0.5 are toxic (positive class)\n",
    "    data = data.loc[:, [TEXT_COL, LABEL_COL]]\n",
    "    data[LABEL_COL] = np.where(data[LABEL_COL] >= 0.5, True, False)\n",
    "\n",
    "    # split dataset into 80% train set and 20% validation set\n",
    "    train_data, validate_data = model_selection.train_test_split(data, test_size=0.2)\n",
    "    print('%d train set comments, %d validation set comments' % (len(train_data), len(validate_data)))\n",
    "\n",
    "    print(\"- %s seconds \" % int(time.time() - start))\n",
    "    return train_data, validate_data\n"
   ]
  },
  {
   "cell_type": "code",
   "execution_count": 4,
   "metadata": {},
   "outputs": [
    {
     "name": "stdout",
     "output_type": "stream",
     "text": [
      "read the data\n",
      "1443899 train set comments, 360975 validation set comments\n",
      "- 10 seconds \n"
     ]
    }
   ],
   "source": [
    "# read in the data\n",
    "train_data, validate_data = read_data('D:/NEU/Fall 2020/NLP/Project/train.csv')"
   ]
  },
  {
   "cell_type": "markdown",
   "metadata": {},
   "source": [
    "**train set has 1.4 million comments and validation set has 360000 comments**"
   ]
  },
  {
   "cell_type": "code",
   "execution_count": 5,
   "metadata": {},
   "outputs": [
    {
     "data": {
      "text/html": [
       "<div>\n",
       "<style scoped>\n",
       "    .dataframe tbody tr th:only-of-type {\n",
       "        vertical-align: middle;\n",
       "    }\n",
       "\n",
       "    .dataframe tbody tr th {\n",
       "        vertical-align: top;\n",
       "    }\n",
       "\n",
       "    .dataframe thead th {\n",
       "        text-align: right;\n",
       "    }\n",
       "</style>\n",
       "<table border=\"1\" class=\"dataframe\">\n",
       "  <thead>\n",
       "    <tr style=\"text-align: right;\">\n",
       "      <th></th>\n",
       "      <th>comment_text</th>\n",
       "      <th>target</th>\n",
       "    </tr>\n",
       "  </thead>\n",
       "  <tbody>\n",
       "    <tr>\n",
       "      <td>342602</td>\n",
       "      <td>Solution, we as True Canasians stand together\\...</td>\n",
       "      <td>True</td>\n",
       "    </tr>\n",
       "    <tr>\n",
       "      <td>965526</td>\n",
       "      <td>And how is it that a**holes like him have any ...</td>\n",
       "      <td>True</td>\n",
       "    </tr>\n",
       "    <tr>\n",
       "      <td>81282</td>\n",
       "      <td>You might want to listen to the speech on line...</td>\n",
       "      <td>True</td>\n",
       "    </tr>\n",
       "    <tr>\n",
       "      <td>1802099</td>\n",
       "      <td>I'm not judging another women's life choice. I...</td>\n",
       "      <td>False</td>\n",
       "    </tr>\n",
       "    <tr>\n",
       "      <td>130746</td>\n",
       "      <td>\"No one really knows because no one understand...</td>\n",
       "      <td>False</td>\n",
       "    </tr>\n",
       "  </tbody>\n",
       "</table>\n",
       "</div>"
      ],
      "text/plain": [
       "                                              comment_text  target\n",
       "342602   Solution, we as True Canasians stand together\\...    True\n",
       "965526   And how is it that a**holes like him have any ...    True\n",
       "81282    You might want to listen to the speech on line...    True\n",
       "1802099  I'm not judging another women's life choice. I...   False\n",
       "130746   \"No one really knows because no one understand...   False"
      ]
     },
     "execution_count": 5,
     "metadata": {},
     "output_type": "execute_result"
    }
   ],
   "source": [
    "train_data.head()"
   ]
  },
  {
   "cell_type": "code",
   "execution_count": 6,
   "metadata": {
    "scrolled": true
   },
   "outputs": [
    {
     "data": {
      "text/html": [
       "<div>\n",
       "<style scoped>\n",
       "    .dataframe tbody tr th:only-of-type {\n",
       "        vertical-align: middle;\n",
       "    }\n",
       "\n",
       "    .dataframe tbody tr th {\n",
       "        vertical-align: top;\n",
       "    }\n",
       "\n",
       "    .dataframe thead th {\n",
       "        text-align: right;\n",
       "    }\n",
       "</style>\n",
       "<table border=\"1\" class=\"dataframe\">\n",
       "  <thead>\n",
       "    <tr style=\"text-align: right;\">\n",
       "      <th></th>\n",
       "      <th>comment_text</th>\n",
       "      <th>target</th>\n",
       "    </tr>\n",
       "  </thead>\n",
       "  <tbody>\n",
       "    <tr>\n",
       "      <td>143632</td>\n",
       "      <td>Fuck fluoridation, that shit is toxic. Fuck it...</td>\n",
       "      <td>True</td>\n",
       "    </tr>\n",
       "    <tr>\n",
       "      <td>591354</td>\n",
       "      <td>Try reading the article:  \"The refugee claiman...</td>\n",
       "      <td>False</td>\n",
       "    </tr>\n",
       "    <tr>\n",
       "      <td>434261</td>\n",
       "      <td>So many people have proudly elevated themselve...</td>\n",
       "      <td>True</td>\n",
       "    </tr>\n",
       "    <tr>\n",
       "      <td>1438345</td>\n",
       "      <td>Mr. Eyman, it's a small mind that can't get on...</td>\n",
       "      <td>True</td>\n",
       "    </tr>\n",
       "    <tr>\n",
       "      <td>1121809</td>\n",
       "      <td>Only more dangerous to criminals in a stolen v...</td>\n",
       "      <td>False</td>\n",
       "    </tr>\n",
       "  </tbody>\n",
       "</table>\n",
       "</div>"
      ],
      "text/plain": [
       "                                              comment_text  target\n",
       "143632   Fuck fluoridation, that shit is toxic. Fuck it...    True\n",
       "591354   Try reading the article:  \"The refugee claiman...   False\n",
       "434261   So many people have proudly elevated themselve...    True\n",
       "1438345  Mr. Eyman, it's a small mind that can't get on...    True\n",
       "1121809  Only more dangerous to criminals in a stolen v...   False"
      ]
     },
     "execution_count": 6,
     "metadata": {},
     "output_type": "execute_result"
    }
   ],
   "source": [
    "validate_data.head()"
   ]
  },
  {
   "cell_type": "code",
   "execution_count": 7,
   "metadata": {},
   "outputs": [],
   "source": [
    "# helper function remove punctuation\n",
    "\n",
    "import string\n",
    "\n",
    "def remove_punct(text):\n",
    "    text  = \"\".join([char for char in text if char not in string.punctuation])\n",
    "    return text\n",
    "\n"
   ]
  },
  {
   "cell_type": "code",
   "execution_count": 8,
   "metadata": {},
   "outputs": [],
   "source": [
    "# helper function to tokenize comments\n",
    "\n",
    "#tokenize the tweets\n",
    "import re\n",
    "def tokenization(text):\n",
    "    text = re.split('\\W+', text)\n",
    "    return text"
   ]
  },
  {
   "cell_type": "code",
   "execution_count": 9,
   "metadata": {},
   "outputs": [],
   "source": [
    "# helper function to remove stop words\n",
    "\n",
    "import nltk\n",
    "from nltk.corpus import stopwords\n",
    "\n",
    "stopword = nltk.corpus.stopwords.words('english')\n",
    "\n",
    "def remove_stopwords(text):\n",
    "    text = [word for word in text if word not in stopword]\n",
    "    return text"
   ]
  },
  {
   "cell_type": "code",
   "execution_count": 10,
   "metadata": {},
   "outputs": [],
   "source": [
    "# remove punctuation, tokenize and remove stop words from comments in train set\n",
    "train_data['nopunc'] = train_data['comment_text'].apply(lambda x: remove_punct(x))\n",
    "train_data['tokenized'] = train_data['nopunc'].apply(lambda x: tokenization(x.lower()))\n",
    "train_data['nostop'] = train_data['tokenized'].apply(lambda x: remove_stopwords(x))\n"
   ]
  },
  {
   "cell_type": "code",
   "execution_count": 11,
   "metadata": {},
   "outputs": [],
   "source": [
    "# remove punctuation, tokenize and remove stop words from comments in validation set\n",
    "validate_data['nopunc'] = validate_data['comment_text'].apply(lambda x: remove_punct(x))\n",
    "validate_data['tokenized'] = validate_data['nopunc'].apply(lambda x: tokenization(x.lower()))\n",
    "validate_data['nostop'] = validate_data['tokenized'].apply(lambda x: remove_stopwords(x))\n"
   ]
  },
  {
   "cell_type": "code",
   "execution_count": 12,
   "metadata": {
    "scrolled": false
   },
   "outputs": [
    {
     "data": {
      "text/html": [
       "<div>\n",
       "<style scoped>\n",
       "    .dataframe tbody tr th:only-of-type {\n",
       "        vertical-align: middle;\n",
       "    }\n",
       "\n",
       "    .dataframe tbody tr th {\n",
       "        vertical-align: top;\n",
       "    }\n",
       "\n",
       "    .dataframe thead th {\n",
       "        text-align: right;\n",
       "    }\n",
       "</style>\n",
       "<table border=\"1\" class=\"dataframe\">\n",
       "  <thead>\n",
       "    <tr style=\"text-align: right;\">\n",
       "      <th></th>\n",
       "      <th>comment_text</th>\n",
       "      <th>target</th>\n",
       "      <th>nopunc</th>\n",
       "      <th>tokenized</th>\n",
       "      <th>nostop</th>\n",
       "    </tr>\n",
       "  </thead>\n",
       "  <tbody>\n",
       "    <tr>\n",
       "      <td>342602</td>\n",
       "      <td>Solution, we as True Canasians stand together\\...</td>\n",
       "      <td>True</td>\n",
       "      <td>Solution we as True Canasians stand together\\n...</td>\n",
       "      <td>[solution, we, as, true, canasians, stand, tog...</td>\n",
       "      <td>[solution, true, canasians, stand, together, r...</td>\n",
       "    </tr>\n",
       "    <tr>\n",
       "      <td>965526</td>\n",
       "      <td>And how is it that a**holes like him have any ...</td>\n",
       "      <td>True</td>\n",
       "      <td>And how is it that aholes like him have any bu...</td>\n",
       "      <td>[and, how, is, it, that, aholes, like, him, ha...</td>\n",
       "      <td>[aholes, like, business, right, carry, gun, an...</td>\n",
       "    </tr>\n",
       "    <tr>\n",
       "      <td>81282</td>\n",
       "      <td>You might want to listen to the speech on line...</td>\n",
       "      <td>True</td>\n",
       "      <td>You might want to listen to the speech on line...</td>\n",
       "      <td>[you, might, want, to, listen, to, the, speech...</td>\n",
       "      <td>[might, want, listen, speech, line, hillary, c...</td>\n",
       "    </tr>\n",
       "    <tr>\n",
       "      <td>1802099</td>\n",
       "      <td>I'm not judging another women's life choice. I...</td>\n",
       "      <td>False</td>\n",
       "      <td>Im not judging another womens life choice Im j...</td>\n",
       "      <td>[im, not, judging, another, womens, life, choi...</td>\n",
       "      <td>[im, judging, another, womens, life, choice, i...</td>\n",
       "    </tr>\n",
       "    <tr>\n",
       "      <td>130746</td>\n",
       "      <td>\"No one really knows because no one understand...</td>\n",
       "      <td>False</td>\n",
       "      <td>No one really knows because no one understands...</td>\n",
       "      <td>[no, one, really, knows, because, no, one, und...</td>\n",
       "      <td>[one, really, knows, one, understands, got, fi...</td>\n",
       "    </tr>\n",
       "  </tbody>\n",
       "</table>\n",
       "</div>"
      ],
      "text/plain": [
       "                                              comment_text  target  \\\n",
       "342602   Solution, we as True Canasians stand together\\...    True   \n",
       "965526   And how is it that a**holes like him have any ...    True   \n",
       "81282    You might want to listen to the speech on line...    True   \n",
       "1802099  I'm not judging another women's life choice. I...   False   \n",
       "130746   \"No one really knows because no one understand...   False   \n",
       "\n",
       "                                                    nopunc  \\\n",
       "342602   Solution we as True Canasians stand together\\n...   \n",
       "965526   And how is it that aholes like him have any bu...   \n",
       "81282    You might want to listen to the speech on line...   \n",
       "1802099  Im not judging another womens life choice Im j...   \n",
       "130746   No one really knows because no one understands...   \n",
       "\n",
       "                                                 tokenized  \\\n",
       "342602   [solution, we, as, true, canasians, stand, tog...   \n",
       "965526   [and, how, is, it, that, aholes, like, him, ha...   \n",
       "81282    [you, might, want, to, listen, to, the, speech...   \n",
       "1802099  [im, not, judging, another, womens, life, choi...   \n",
       "130746   [no, one, really, knows, because, no, one, und...   \n",
       "\n",
       "                                                    nostop  \n",
       "342602   [solution, true, canasians, stand, together, r...  \n",
       "965526   [aholes, like, business, right, carry, gun, an...  \n",
       "81282    [might, want, listen, speech, line, hillary, c...  \n",
       "1802099  [im, judging, another, womens, life, choice, i...  \n",
       "130746   [one, really, knows, one, understands, got, fi...  "
      ]
     },
     "execution_count": 12,
     "metadata": {},
     "output_type": "execute_result"
    }
   ],
   "source": [
    "train_data.head()"
   ]
  },
  {
   "cell_type": "code",
   "execution_count": 13,
   "metadata": {
    "scrolled": true
   },
   "outputs": [
    {
     "data": {
      "text/html": [
       "<div>\n",
       "<style scoped>\n",
       "    .dataframe tbody tr th:only-of-type {\n",
       "        vertical-align: middle;\n",
       "    }\n",
       "\n",
       "    .dataframe tbody tr th {\n",
       "        vertical-align: top;\n",
       "    }\n",
       "\n",
       "    .dataframe thead th {\n",
       "        text-align: right;\n",
       "    }\n",
       "</style>\n",
       "<table border=\"1\" class=\"dataframe\">\n",
       "  <thead>\n",
       "    <tr style=\"text-align: right;\">\n",
       "      <th></th>\n",
       "      <th>comment_text</th>\n",
       "      <th>target</th>\n",
       "      <th>nopunc</th>\n",
       "      <th>tokenized</th>\n",
       "      <th>nostop</th>\n",
       "    </tr>\n",
       "  </thead>\n",
       "  <tbody>\n",
       "    <tr>\n",
       "      <td>143632</td>\n",
       "      <td>Fuck fluoridation, that shit is toxic. Fuck it...</td>\n",
       "      <td>True</td>\n",
       "      <td>Fuck fluoridation that shit is toxic Fuck it f...</td>\n",
       "      <td>[fuck, fluoridation, that, shit, is, toxic, fu...</td>\n",
       "      <td>[fuck, fluoridation, shit, toxic, fuck, fuck, ...</td>\n",
       "    </tr>\n",
       "    <tr>\n",
       "      <td>591354</td>\n",
       "      <td>Try reading the article:  \"The refugee claiman...</td>\n",
       "      <td>False</td>\n",
       "      <td>Try reading the article  The refugee claimants...</td>\n",
       "      <td>[try, reading, the, article, the, refugee, cla...</td>\n",
       "      <td>[try, reading, article, refugee, claimants, ar...</td>\n",
       "    </tr>\n",
       "    <tr>\n",
       "      <td>434261</td>\n",
       "      <td>So many people have proudly elevated themselve...</td>\n",
       "      <td>True</td>\n",
       "      <td>So many people have proudly elevated themselve...</td>\n",
       "      <td>[so, many, people, have, proudly, elevated, th...</td>\n",
       "      <td>[many, people, proudly, elevated, willfully, e...</td>\n",
       "    </tr>\n",
       "    <tr>\n",
       "      <td>1438345</td>\n",
       "      <td>Mr. Eyman, it's a small mind that can't get on...</td>\n",
       "      <td>True</td>\n",
       "      <td>Mr Eyman its a small mind that cant get ones p...</td>\n",
       "      <td>[mr, eyman, its, a, small, mind, that, cant, g...</td>\n",
       "      <td>[mr, eyman, small, mind, cant, get, ones, poin...</td>\n",
       "    </tr>\n",
       "    <tr>\n",
       "      <td>1121809</td>\n",
       "      <td>Only more dangerous to criminals in a stolen v...</td>\n",
       "      <td>False</td>\n",
       "      <td>Only more dangerous to criminals in a stolen v...</td>\n",
       "      <td>[only, more, dangerous, to, criminals, in, a, ...</td>\n",
       "      <td>[dangerous, criminals, stolen, vehicle, middle...</td>\n",
       "    </tr>\n",
       "  </tbody>\n",
       "</table>\n",
       "</div>"
      ],
      "text/plain": [
       "                                              comment_text  target  \\\n",
       "143632   Fuck fluoridation, that shit is toxic. Fuck it...    True   \n",
       "591354   Try reading the article:  \"The refugee claiman...   False   \n",
       "434261   So many people have proudly elevated themselve...    True   \n",
       "1438345  Mr. Eyman, it's a small mind that can't get on...    True   \n",
       "1121809  Only more dangerous to criminals in a stolen v...   False   \n",
       "\n",
       "                                                    nopunc  \\\n",
       "143632   Fuck fluoridation that shit is toxic Fuck it f...   \n",
       "591354   Try reading the article  The refugee claimants...   \n",
       "434261   So many people have proudly elevated themselve...   \n",
       "1438345  Mr Eyman its a small mind that cant get ones p...   \n",
       "1121809  Only more dangerous to criminals in a stolen v...   \n",
       "\n",
       "                                                 tokenized  \\\n",
       "143632   [fuck, fluoridation, that, shit, is, toxic, fu...   \n",
       "591354   [try, reading, the, article, the, refugee, cla...   \n",
       "434261   [so, many, people, have, proudly, elevated, th...   \n",
       "1438345  [mr, eyman, its, a, small, mind, that, cant, g...   \n",
       "1121809  [only, more, dangerous, to, criminals, in, a, ...   \n",
       "\n",
       "                                                    nostop  \n",
       "143632   [fuck, fluoridation, shit, toxic, fuck, fuck, ...  \n",
       "591354   [try, reading, article, refugee, claimants, ar...  \n",
       "434261   [many, people, proudly, elevated, willfully, e...  \n",
       "1438345  [mr, eyman, small, mind, cant, get, ones, poin...  \n",
       "1121809  [dangerous, criminals, stolen, vehicle, middle...  "
      ]
     },
     "execution_count": 13,
     "metadata": {},
     "output_type": "execute_result"
    }
   ],
   "source": [
    "validate_data.head()"
   ]
  },
  {
   "cell_type": "code",
   "execution_count": 14,
   "metadata": {},
   "outputs": [
    {
     "name": "stdout",
     "output_type": "stream",
     "text": [
      "1443899\n",
      "360975\n"
     ]
    }
   ],
   "source": [
    "traintext = train_data['nostop'].tolist()\n",
    "validatetext = validate_data['nostop'].tolist()\n",
    "print(len(traintext))\n",
    "print(len(validatetext))"
   ]
  },
  {
   "cell_type": "code",
   "execution_count": 15,
   "metadata": {},
   "outputs": [],
   "source": [
    "nostop_train = []\n",
    "for i in range(len(traintext)):\n",
    "    nostop_train.append(\" \".join(traintext[i]))\n",
    "    "
   ]
  },
  {
   "cell_type": "code",
   "execution_count": 16,
   "metadata": {},
   "outputs": [],
   "source": [
    "nostop_validate = []\n",
    "for i in range(len(validatetext)):\n",
    "    nostop_validate.append(\" \".join(validatetext[i]))\n",
    "    "
   ]
  },
  {
   "cell_type": "code",
   "execution_count": 17,
   "metadata": {
    "scrolled": false
   },
   "outputs": [
    {
     "name": "stdout",
     "output_type": "stream",
     "text": [
      "1443899\n",
      "360975\n"
     ]
    }
   ],
   "source": [
    "print(len(nostop_train))\n",
    "print(len(nostop_validate))"
   ]
  },
  {
   "cell_type": "code",
   "execution_count": 18,
   "metadata": {},
   "outputs": [],
   "source": [
    "# append the above 2 lists to their respective dfs\n",
    "del train_data['comment_text']\n",
    "del validate_data['comment_text']\n",
    "\n",
    "train_data['comment_text'] = nostop_train\n",
    "validate_data['comment_text'] = nostop_validate\n"
   ]
  },
  {
   "cell_type": "code",
   "execution_count": 19,
   "metadata": {
    "scrolled": true
   },
   "outputs": [],
   "source": [
    "train_data.head()\n",
    "\n",
    "train_data2 = train_data"
   ]
  },
  {
   "cell_type": "code",
   "execution_count": 20,
   "metadata": {
    "scrolled": true
   },
   "outputs": [
    {
     "data": {
      "text/html": [
       "<div>\n",
       "<style scoped>\n",
       "    .dataframe tbody tr th:only-of-type {\n",
       "        vertical-align: middle;\n",
       "    }\n",
       "\n",
       "    .dataframe tbody tr th {\n",
       "        vertical-align: top;\n",
       "    }\n",
       "\n",
       "    .dataframe thead th {\n",
       "        text-align: right;\n",
       "    }\n",
       "</style>\n",
       "<table border=\"1\" class=\"dataframe\">\n",
       "  <thead>\n",
       "    <tr style=\"text-align: right;\">\n",
       "      <th></th>\n",
       "      <th>target</th>\n",
       "      <th>nopunc</th>\n",
       "      <th>tokenized</th>\n",
       "      <th>nostop</th>\n",
       "      <th>comment_text</th>\n",
       "    </tr>\n",
       "  </thead>\n",
       "  <tbody>\n",
       "    <tr>\n",
       "      <td>143632</td>\n",
       "      <td>True</td>\n",
       "      <td>Fuck fluoridation that shit is toxic Fuck it f...</td>\n",
       "      <td>[fuck, fluoridation, that, shit, is, toxic, fu...</td>\n",
       "      <td>[fuck, fluoridation, shit, toxic, fuck, fuck, ...</td>\n",
       "      <td>fuck fluoridation shit toxic fuck fuck hell</td>\n",
       "    </tr>\n",
       "    <tr>\n",
       "      <td>591354</td>\n",
       "      <td>False</td>\n",
       "      <td>Try reading the article  The refugee claimants...</td>\n",
       "      <td>[try, reading, the, article, the, refugee, cla...</td>\n",
       "      <td>[try, reading, article, refugee, claimants, ar...</td>\n",
       "      <td>try reading article refugee claimants arrived ...</td>\n",
       "    </tr>\n",
       "    <tr>\n",
       "      <td>434261</td>\n",
       "      <td>True</td>\n",
       "      <td>So many people have proudly elevated themselve...</td>\n",
       "      <td>[so, many, people, have, proudly, elevated, th...</td>\n",
       "      <td>[many, people, proudly, elevated, willfully, e...</td>\n",
       "      <td>many people proudly elevated willfully exquisi...</td>\n",
       "    </tr>\n",
       "    <tr>\n",
       "      <td>1438345</td>\n",
       "      <td>True</td>\n",
       "      <td>Mr Eyman its a small mind that cant get ones p...</td>\n",
       "      <td>[mr, eyman, its, a, small, mind, that, cant, g...</td>\n",
       "      <td>[mr, eyman, small, mind, cant, get, ones, poin...</td>\n",
       "      <td>mr eyman small mind cant get ones point across...</td>\n",
       "    </tr>\n",
       "    <tr>\n",
       "      <td>1121809</td>\n",
       "      <td>False</td>\n",
       "      <td>Only more dangerous to criminals in a stolen v...</td>\n",
       "      <td>[only, more, dangerous, to, criminals, in, a, ...</td>\n",
       "      <td>[dangerous, criminals, stolen, vehicle, middle...</td>\n",
       "      <td>dangerous criminals stolen vehicle middle nigh...</td>\n",
       "    </tr>\n",
       "  </tbody>\n",
       "</table>\n",
       "</div>"
      ],
      "text/plain": [
       "         target                                             nopunc  \\\n",
       "143632     True  Fuck fluoridation that shit is toxic Fuck it f...   \n",
       "591354    False  Try reading the article  The refugee claimants...   \n",
       "434261     True  So many people have proudly elevated themselve...   \n",
       "1438345    True  Mr Eyman its a small mind that cant get ones p...   \n",
       "1121809   False  Only more dangerous to criminals in a stolen v...   \n",
       "\n",
       "                                                 tokenized  \\\n",
       "143632   [fuck, fluoridation, that, shit, is, toxic, fu...   \n",
       "591354   [try, reading, the, article, the, refugee, cla...   \n",
       "434261   [so, many, people, have, proudly, elevated, th...   \n",
       "1438345  [mr, eyman, its, a, small, mind, that, cant, g...   \n",
       "1121809  [only, more, dangerous, to, criminals, in, a, ...   \n",
       "\n",
       "                                                    nostop  \\\n",
       "143632   [fuck, fluoridation, shit, toxic, fuck, fuck, ...   \n",
       "591354   [try, reading, article, refugee, claimants, ar...   \n",
       "434261   [many, people, proudly, elevated, willfully, e...   \n",
       "1438345  [mr, eyman, small, mind, cant, get, ones, poin...   \n",
       "1121809  [dangerous, criminals, stolen, vehicle, middle...   \n",
       "\n",
       "                                              comment_text  \n",
       "143632         fuck fluoridation shit toxic fuck fuck hell  \n",
       "591354   try reading article refugee claimants arrived ...  \n",
       "434261   many people proudly elevated willfully exquisi...  \n",
       "1438345  mr eyman small mind cant get ones point across...  \n",
       "1121809  dangerous criminals stolen vehicle middle nigh...  "
      ]
     },
     "execution_count": 20,
     "metadata": {},
     "output_type": "execute_result"
    }
   ],
   "source": [
    "validate_data.head()"
   ]
  },
  {
   "cell_type": "code",
   "execution_count": 21,
   "metadata": {},
   "outputs": [],
   "source": [
    "# helper function to return dict of words to indices\n",
    "def tokenize(train_data):\n",
    "    print(\"Tokenizing...\")\n",
    "    start = time.time()\n",
    "\n",
    "    MAX_UNIQ_WORDS = 10**6\n",
    "\n",
    "    tokenizer = Tokenizer(num_words=MAX_UNIQ_WORDS)\n",
    "    tokenizer.fit_on_texts(train_data[TEXT_COL])\n",
    "    train_data[TEXT_COL] = tokenizer.texts_to_sequences(train_data[TEXT_COL])\n",
    "\n",
    "    print(\"- %s seconds \" % int(time.time() - start))\n",
    "    return tokenizer.word_index"
   ]
  },
  {
   "cell_type": "code",
   "execution_count": 22,
   "metadata": {},
   "outputs": [],
   "source": [
    "# helper function to get counts for tokens belonging to classes\n",
    "def get_counts(train_data, word_index, klass):\n",
    "    start = time.time()\n",
    "\n",
    "    counts = np.ones(len(word_index))\n",
    "    klass_data = train_data[train_data[LABEL_COL] == klass][TEXT_COL]\n",
    "    n = klass_data.shape[0]\n",
    "\n",
    "    for i in range(n):\n",
    "        words = klass_data.iloc[i]\n",
    "        for j in range(len(words)):\n",
    "            counts[words[j] - 1] += 1\n",
    "\n",
    "    print(\"- %s seconds \" % int(time.time() - start))\n",
    "    return counts, n"
   ]
  },
  {
   "cell_type": "code",
   "execution_count": 23,
   "metadata": {},
   "outputs": [],
   "source": [
    "# helper function to get comment text into a numpy array\n",
    "def extract_comments(test_data):\n",
    "    test_comments = test_data[TEXT_COL].to_numpy()\n",
    "    return test_comments"
   ]
  },
  {
   "cell_type": "code",
   "execution_count": 24,
   "metadata": {},
   "outputs": [],
   "source": [
    "# helper function to get the accuracy of the naive bayes model\n",
    "def get_accuracy(predictions, test_data):\n",
    "    test_labels = test_data[LABEL_COL].to_numpy()\n",
    "    return metrics.accuracy_score(test_labels, predictions)\n"
   ]
  },
  {
   "cell_type": "code",
   "execution_count": 25,
   "metadata": {},
   "outputs": [],
   "source": [
    "# helper function to predict labels of toxicity\n",
    "def predict(train_data, test_data):\n",
    "    word_index = tokenize(train_data)\n",
    "    print(\"Counting positive klass...\")\n",
    "    pos_count, pos_num = get_counts(train_data, word_index, 1)\n",
    "    pos_word_count = np.sum(pos_count)\n",
    "    print(\"Counting negative klass...\")\n",
    "    neg_count, neg_num = get_counts(train_data, word_index, 0)\n",
    "    neg_word_count = np.sum(neg_count)\n",
    "\n",
    "    test_comments = extract_comments(test_data)\n",
    "\n",
    "    print(\"Predicting...\")\n",
    "    start = time.time()\n",
    "\n",
    "    predictions = np.zeros(test_comments.shape[0])\n",
    "\n",
    "    # prior probabilities of positive and negative classes\n",
    "    logPriorPos = np.log(pos_num / (pos_num + neg_num))\n",
    "    logPriorNeg = np.log(neg_num / (pos_num + neg_num))\n",
    "\n",
    "    logProbPos = logPriorPos\n",
    "    logProbNeg = logPriorNeg\n",
    "\n",
    "    for i in range(test_comments.shape[0]):\n",
    "        comment = text_to_word_sequence(test_comments[i])\n",
    "        for word in comment:\n",
    "            if word in word_index:\n",
    "                index = word_index[word]\n",
    "                loglikelihoodPos = np.log(pos_count[index] / pos_word_count)\n",
    "                loglikelihoodNeg = np.log(neg_count[index] / neg_word_count)\n",
    "                logProbPos += loglikelihoodPos\n",
    "                logProbNeg += loglikelihoodNeg\n",
    "        if logProbPos >= logProbNeg:\n",
    "            predictions[i] = 1\n",
    "\n",
    "    print(\"- %s seconds \" % int(time.time() - start))\n",
    "    print(\"Accuracy: %s\" % get_accuracy(predictions, test_data))\n",
    "\n"
   ]
  },
  {
   "cell_type": "code",
   "execution_count": 26,
   "metadata": {
    "scrolled": true
   },
   "outputs": [
    {
     "name": "stdout",
     "output_type": "stream",
     "text": [
      "Tokenizing...\n",
      "- 78 seconds \n",
      "Counting positive klass...\n",
      "- 2 seconds \n",
      "Counting negative klass...\n",
      "- 26 seconds \n",
      "Predicting...\n",
      "- 34 seconds \n",
      "Accuracy: 0.9193212826373017\n"
     ]
    }
   ],
   "source": [
    "# run the predict() helper function on train and validation sets\n",
    "predict(train_data, validate_data)"
   ]
  },
  {
   "cell_type": "code",
   "execution_count": 29,
   "metadata": {},
   "outputs": [
    {
     "data": {
      "text/html": [
       "<div>\n",
       "<style scoped>\n",
       "    .dataframe tbody tr th:only-of-type {\n",
       "        vertical-align: middle;\n",
       "    }\n",
       "\n",
       "    .dataframe tbody tr th {\n",
       "        vertical-align: top;\n",
       "    }\n",
       "\n",
       "    .dataframe thead th {\n",
       "        text-align: right;\n",
       "    }\n",
       "</style>\n",
       "<table border=\"1\" class=\"dataframe\">\n",
       "  <thead>\n",
       "    <tr style=\"text-align: right;\">\n",
       "      <th></th>\n",
       "      <th>target</th>\n",
       "      <th>nopunc</th>\n",
       "      <th>tokenized</th>\n",
       "      <th>nostop</th>\n",
       "      <th>comment_text</th>\n",
       "    </tr>\n",
       "  </thead>\n",
       "  <tbody>\n",
       "    <tr>\n",
       "      <td>342602</td>\n",
       "      <td>True</td>\n",
       "      <td>Solution we as True Canasians stand together\\n...</td>\n",
       "      <td>[solution, we, as, true, canasians, stand, tog...</td>\n",
       "      <td>[solution, true, canasians, stand, together, r...</td>\n",
       "      <td>[725, 164, 188242, 474, 637, 1943, 7434, 1318,...</td>\n",
       "    </tr>\n",
       "    <tr>\n",
       "      <td>965526</td>\n",
       "      <td>True</td>\n",
       "      <td>And how is it that aholes like him have any bu...</td>\n",
       "      <td>[and, how, is, it, that, aholes, like, him, ha...</td>\n",
       "      <td>[aholes, like, business, right, carry, gun, an...</td>\n",
       "      <td>[16764, 4, 123, 15, 1187, 330, 52, 288, 330, 2...</td>\n",
       "    </tr>\n",
       "    <tr>\n",
       "      <td>81282</td>\n",
       "      <td>True</td>\n",
       "      <td>You might want to listen to the speech on line...</td>\n",
       "      <td>[you, might, want, to, listen, to, the, speech...</td>\n",
       "      <td>[might, want, listen, speech, line, hillary, c...</td>\n",
       "      <td>[111, 25, 1148, 468, 275, 253, 239, 618, 9, 72...</td>\n",
       "    </tr>\n",
       "    <tr>\n",
       "      <td>1802099</td>\n",
       "      <td>False</td>\n",
       "      <td>Im not judging another womens life choice Im j...</td>\n",
       "      <td>[im, not, judging, another, womens, life, choi...</td>\n",
       "      <td>[im, judging, another, womens, life, choice, i...</td>\n",
       "      <td>[34, 4145, 52, 2235, 82, 432, 34, 4145, 52, 48...</td>\n",
       "    </tr>\n",
       "    <tr>\n",
       "      <td>130746</td>\n",
       "      <td>False</td>\n",
       "      <td>No one really knows because no one understands...</td>\n",
       "      <td>[no, one, really, knows, because, no, one, und...</td>\n",
       "      <td>[one, really, knows, one, understands, got, fi...</td>\n",
       "      <td>[3, 35, 479, 3, 4178, 94, 44, 154, 35, 435, 54...</td>\n",
       "    </tr>\n",
       "  </tbody>\n",
       "</table>\n",
       "</div>"
      ],
      "text/plain": [
       "         target                                             nopunc  \\\n",
       "342602     True  Solution we as True Canasians stand together\\n...   \n",
       "965526     True  And how is it that aholes like him have any bu...   \n",
       "81282      True  You might want to listen to the speech on line...   \n",
       "1802099   False  Im not judging another womens life choice Im j...   \n",
       "130746    False  No one really knows because no one understands...   \n",
       "\n",
       "                                                 tokenized  \\\n",
       "342602   [solution, we, as, true, canasians, stand, tog...   \n",
       "965526   [and, how, is, it, that, aholes, like, him, ha...   \n",
       "81282    [you, might, want, to, listen, to, the, speech...   \n",
       "1802099  [im, not, judging, another, womens, life, choi...   \n",
       "130746   [no, one, really, knows, because, no, one, und...   \n",
       "\n",
       "                                                    nostop  \\\n",
       "342602   [solution, true, canasians, stand, together, r...   \n",
       "965526   [aholes, like, business, right, carry, gun, an...   \n",
       "81282    [might, want, listen, speech, line, hillary, c...   \n",
       "1802099  [im, judging, another, womens, life, choice, i...   \n",
       "130746   [one, really, knows, one, understands, got, fi...   \n",
       "\n",
       "                                              comment_text  \n",
       "342602   [725, 164, 188242, 474, 637, 1943, 7434, 1318,...  \n",
       "965526   [16764, 4, 123, 15, 1187, 330, 52, 288, 330, 2...  \n",
       "81282    [111, 25, 1148, 468, 275, 253, 239, 618, 9, 72...  \n",
       "1802099  [34, 4145, 52, 2235, 82, 432, 34, 4145, 52, 48...  \n",
       "130746   [3, 35, 479, 3, 4178, 94, 44, 154, 35, 435, 54...  "
      ]
     },
     "execution_count": 29,
     "metadata": {},
     "output_type": "execute_result"
    }
   ],
   "source": []
  },
  {
   "cell_type": "markdown",
   "metadata": {},
   "source": [
    "# EDA on comment text"
   ]
  },
  {
   "cell_type": "code",
   "execution_count": 30,
   "metadata": {},
   "outputs": [],
   "source": [
    "# corpus of comments\n",
    "corpus = []\n",
    "for i in train_data['nostop']:\n",
    "    i = str(i).lower()\n",
    "    corpus.append(i)"
   ]
  },
  {
   "cell_type": "code",
   "execution_count": 31,
   "metadata": {},
   "outputs": [],
   "source": [
    "import nltk\n",
    "import itertools\n",
    "\n",
    "from nltk.corpus import stopwords\n",
    "from sklearn.feature_extraction.text import CountVectorizer\n",
    "cv = CountVectorizer(stop_words = stopwords.words('english'), min_df = 0.05)"
   ]
  },
  {
   "cell_type": "code",
   "execution_count": 32,
   "metadata": {},
   "outputs": [],
   "source": [
    "# counts of words in the corpus ignoring stop words\n",
    "\n",
    "cv_fit=cv.fit_transform(corpus)\n",
    "\n",
    "# vocab in the tweets\n",
    "vocab = cv.get_feature_names()\n",
    "\n",
    "# counts of words in the tweets\n",
    "vocab_counts = cv_fit.toarray().sum(axis=0)\n"
   ]
  },
  {
   "cell_type": "code",
   "execution_count": 33,
   "metadata": {
    "scrolled": true
   },
   "outputs": [
    {
     "data": {
      "text/html": [
       "<div>\n",
       "<style scoped>\n",
       "    .dataframe tbody tr th:only-of-type {\n",
       "        vertical-align: middle;\n",
       "    }\n",
       "\n",
       "    .dataframe tbody tr th {\n",
       "        vertical-align: top;\n",
       "    }\n",
       "\n",
       "    .dataframe thead th {\n",
       "        text-align: right;\n",
       "    }\n",
       "</style>\n",
       "<table border=\"1\" class=\"dataframe\">\n",
       "  <thead>\n",
       "    <tr style=\"text-align: right;\">\n",
       "      <th></th>\n",
       "      <th>word</th>\n",
       "      <th>counts</th>\n",
       "    </tr>\n",
       "  </thead>\n",
       "  <tbody>\n",
       "    <tr>\n",
       "      <td>0</td>\n",
       "      <td>also</td>\n",
       "      <td>80053</td>\n",
       "    </tr>\n",
       "    <tr>\n",
       "      <td>1</td>\n",
       "      <td>could</td>\n",
       "      <td>85285</td>\n",
       "    </tr>\n",
       "    <tr>\n",
       "      <td>2</td>\n",
       "      <td>dont</td>\n",
       "      <td>169828</td>\n",
       "    </tr>\n",
       "    <tr>\n",
       "      <td>3</td>\n",
       "      <td>even</td>\n",
       "      <td>108441</td>\n",
       "    </tr>\n",
       "    <tr>\n",
       "      <td>4</td>\n",
       "      <td>get</td>\n",
       "      <td>157216</td>\n",
       "    </tr>\n",
       "  </tbody>\n",
       "</table>\n",
       "</div>"
      ],
      "text/plain": [
       "    word  counts\n",
       "0   also   80053\n",
       "1  could   85285\n",
       "2   dont  169828\n",
       "3   even  108441\n",
       "4    get  157216"
      ]
     },
     "execution_count": 33,
     "metadata": {},
     "output_type": "execute_result"
    }
   ],
   "source": [
    "# dataframe of word and its corresponding count\n",
    "counts_df = pd.DataFrame()\n",
    "\n",
    "counts_df['word'] = vocab\n",
    "counts_df['counts'] = vocab_counts\n",
    "\n",
    "counts_df.head()"
   ]
  },
  {
   "cell_type": "code",
   "execution_count": 37,
   "metadata": {},
   "outputs": [],
   "source": [
    "import matplotlib\n",
    "import matplotlib.pyplot as plt\n",
    "import matplotlib.patches as mpatches\n",
    "import seaborn as sn\n",
    "%matplotlib inline"
   ]
  },
  {
   "cell_type": "code",
   "execution_count": 38,
   "metadata": {},
   "outputs": [
    {
     "data": {
      "image/png": "[encoded data removed]",
      "text/plain": [
       "<Figure size 720x576 with 1 Axes>"
      ]
     },
     "metadata": {
      "needs_background": "light"
     },
     "output_type": "display_data"
    }
   ],
   "source": [
    "ax = counts_df.sort_values(by=\"counts\", ascending=False).head(20)\n",
    "\n",
    "plt.figure(figsize=(10, 8))\n",
    "plt.barh(ax['word'], ax['counts'], color=\"blue\")\n",
    "plt.title(\"Common words in comments\")\n",
    "plt.xlabel(\"Count of the words\")\n",
    "plt.show()"
   ]
  },
  {
   "cell_type": "code",
   "execution_count": 39,
   "metadata": {},
   "outputs": [],
   "source": [
    "# most common bigrams in comments\n",
    "cv2 = CountVectorizer(ngram_range=(2, 2), min_df = 0.001, stop_words = stopwords.words('english'))\n",
    "\n",
    "# counts of words in the corpus ignoring stop words\n",
    "cv_fit2=cv2.fit_transform(corpus)\n",
    "\n",
    "# vocab in the tweets\n",
    "bigrams = cv2.get_feature_names()\n",
    "\n",
    "# counts of words in the tweets\n",
    "bigram_counts = cv_fit2.toarray().sum(axis=0)\n"
   ]
  },
  {
   "cell_type": "code",
   "execution_count": 40,
   "metadata": {},
   "outputs": [
    {
     "data": {
      "text/html": [
       "<div>\n",
       "<style scoped>\n",
       "    .dataframe tbody tr th:only-of-type {\n",
       "        vertical-align: middle;\n",
       "    }\n",
       "\n",
       "    .dataframe tbody tr th {\n",
       "        vertical-align: top;\n",
       "    }\n",
       "\n",
       "    .dataframe thead th {\n",
       "        text-align: right;\n",
       "    }\n",
       "</style>\n",
       "<table border=\"1\" class=\"dataframe\">\n",
       "  <thead>\n",
       "    <tr style=\"text-align: right;\">\n",
       "      <th></th>\n",
       "      <th>bigram</th>\n",
       "      <th>counts</th>\n",
       "    </tr>\n",
       "  </thead>\n",
       "  <tbody>\n",
       "    <tr>\n",
       "      <td>0</td>\n",
       "      <td>10 years</td>\n",
       "      <td>3831</td>\n",
       "    </tr>\n",
       "    <tr>\n",
       "      <td>1</td>\n",
       "      <td>15 years</td>\n",
       "      <td>1570</td>\n",
       "    </tr>\n",
       "    <tr>\n",
       "      <td>2</td>\n",
       "      <td>20 years</td>\n",
       "      <td>3814</td>\n",
       "    </tr>\n",
       "    <tr>\n",
       "      <td>3</td>\n",
       "      <td>25 years</td>\n",
       "      <td>1531</td>\n",
       "    </tr>\n",
       "    <tr>\n",
       "      <td>4</td>\n",
       "      <td>30 years</td>\n",
       "      <td>3138</td>\n",
       "    </tr>\n",
       "  </tbody>\n",
       "</table>\n",
       "</div>"
      ],
      "text/plain": [
       "     bigram  counts\n",
       "0  10 years    3831\n",
       "1  15 years    1570\n",
       "2  20 years    3814\n",
       "3  25 years    1531\n",
       "4  30 years    3138"
      ]
     },
     "execution_count": 40,
     "metadata": {},
     "output_type": "execute_result"
    }
   ],
   "source": [
    "# dataframe of bigram and its corresponding count\n",
    "bigrams_counts_df = pd.DataFrame()\n",
    "\n",
    "bigrams_counts_df['bigram'] = bigrams\n",
    "bigrams_counts_df['counts'] = bigram_counts\n",
    "\n",
    "bigrams_counts_df.head()"
   ]
  },
  {
   "cell_type": "code",
   "execution_count": 41,
   "metadata": {
    "scrolled": true
   },
   "outputs": [
    {
     "data": {
      "image/png": "[encoded data removed]",
      "text/plain": [
       "<Figure size 720x576 with 1 Axes>"
      ]
     },
     "metadata": {
      "needs_background": "light"
     },
     "output_type": "display_data"
    }
   ],
   "source": [
    "ax = bigrams_counts_df.sort_values(by=\"counts\", ascending=False).head(20)\n",
    "\n",
    "plt.figure(figsize=(10, 8))\n",
    "plt.barh(ax['bigram'], ax['counts'], color=\"blue\")\n",
    "plt.title(\"Common bigrams in comments\")\n",
    "plt.xlabel(\"Count of the bigrams\")\n",
    "plt.show()"
   ]
  },
  {
   "cell_type": "code",
   "execution_count": 43,
   "metadata": {},
   "outputs": [],
   "source": [
    "# append the above 2 lists to their respective dfs\n",
    "del train_data['comment_text']\n",
    "del validate_data['comment_text']\n",
    "\n",
    "train_data['comment_text'] = nostop_train\n",
    "validate_data['comment_text'] = nostop_validate\n"
   ]
  },
  {
   "cell_type": "code",
   "execution_count": 45,
   "metadata": {},
   "outputs": [],
   "source": [
    "# prepare comments for topic modeling\n",
    "\n",
    "comment_text = train_data['comment_text'].tolist()"
   ]
  },
  {
   "cell_type": "code",
   "execution_count": 58,
   "metadata": {},
   "outputs": [],
   "source": [
    "# random sample 100k comments from comment_text\n",
    "import random\n",
    "\n",
    "sampling = random.choices(comment_text, k=50000)"
   ]
  },
  {
   "cell_type": "code",
   "execution_count": 59,
   "metadata": {},
   "outputs": [],
   "source": [
    "from nltk.stem.wordnet import WordNetLemmatizer\n",
    "from nltk.tokenize import RegexpTokenizer"
   ]
  },
  {
   "cell_type": "code",
   "execution_count": 60,
   "metadata": {},
   "outputs": [],
   "source": [
    "# helper function for preprocessing comments\n",
    "\n",
    "def docs_preprocessor(docs):\n",
    "    tokenizer = RegexpTokenizer(r'\\w+')\n",
    "    for idx in range(len(docs)):\n",
    "        #docs[idx] = docs[idx].lower()  # Convert to lowercase.\n",
    "        docs[idx] = tokenizer.tokenize(docs[idx])  # Split into words.\n",
    "\n",
    "    # Remove numbers, but not words that contain numbers.\n",
    "    docs = [[token for token in doc if not token.isdigit()] for doc in docs]\n",
    "    \n",
    "    # Remove words that are only one character.\n",
    "    docs = [[token for token in doc if len(token) > 1] for doc in docs]\n",
    "    \n",
    "    # Lemmatize all words in documents.\n",
    "    lemmatizer = WordNetLemmatizer()\n",
    "    docs = [[lemmatizer.lemmatize(token) for token in doc] for doc in docs]\n",
    "  \n",
    "    return docs"
   ]
  },
  {
   "cell_type": "code",
   "execution_count": 61,
   "metadata": {},
   "outputs": [],
   "source": [
    "# preprocess random sample from comment_text\n",
    "\n",
    "docs = docs_preprocessor(sampling)"
   ]
  },
  {
   "cell_type": "markdown",
   "metadata": {},
   "source": [
    "# compute bigrams and trigrams\n",
    "\n",
    "from gensim.models import Phrases\n",
    "bigram = Phrases(docs, min_count=10)\n",
    "trigram = Phrases(bigram[docs])\n",
    "\n",
    "for idx in range(len(docs)):\n",
    "    for token in bigram[docs[idx]]:\n",
    "        if '_' in token:\n",
    "            # Token is a bigram, add to document.\n",
    "            docs[idx].append(token)\n",
    "    for token in trigram[docs[idx]]:\n",
    "        if '_' in token:\n",
    "            # Token is a bigram, add to document.\n",
    "            docs[idx].append(token)"
   ]
  },
  {
   "cell_type": "code",
   "execution_count": 62,
   "metadata": {},
   "outputs": [
    {
     "name": "stdout",
     "output_type": "stream",
     "text": [
      "Number of unique words in initital documents: 62672\n"
     ]
    }
   ],
   "source": [
    "from gensim import corpora\n",
    "from gensim.corpora import Dictionary\n",
    "\n",
    "# Create a dictionary representation of the comments\n",
    "dictionary = Dictionary(docs)\n",
    "print('Number of unique words in initital documents:', len(dictionary))"
   ]
  },
  {
   "cell_type": "code",
   "execution_count": 96,
   "metadata": {},
   "outputs": [],
   "source": [
    "# vectorize the data\n",
    "# bag of words model\n",
    "# dictionary.filter_extremes(no_below=0, no_above=1)\n",
    "\n",
    "\n",
    "dirichlet_dict = corpora.Dictionary(docs)\n",
    "corpus = [dictionary.doc2bow(doc) for doc in docs]\n"
   ]
  },
  {
   "cell_type": "code",
   "execution_count": 87,
   "metadata": {},
   "outputs": [
    {
     "name": "stdout",
     "output_type": "stream",
     "text": [
      "Number of unique tokens: 62672\n",
      "Number of documents: 50000\n"
     ]
    }
   ],
   "source": [
    "print('Number of unique tokens: %d' % len(dictionary))\n",
    "print('Number of documents: %d' % len(corpus))"
   ]
  },
  {
   "cell_type": "markdown",
   "metadata": {},
   "source": [
    "**Determining the optimum number of topics**"
   ]
  },
  {
   "cell_type": "code",
   "execution_count": 89,
   "metadata": {},
   "outputs": [],
   "source": [
    "# Considering 1-15 topics into consideration\n",
    "num_topics = list(range(16)[1:])\n",
    "num_keywords = 15\n",
    "\n",
    "# Make a index to word dictionary.\n",
    "temp = dictionary[0]  # This is only to \"load\" the dictionary.\n",
    "id2word = dictionary.id2token\n"
   ]
  },
  {
   "cell_type": "code",
   "execution_count": 91,
   "metadata": {},
   "outputs": [],
   "source": [
    "from gensim.models import LdaModel, CoherenceModel\n",
    "\n",
    "LDA_models = {}\n",
    "LDA_topics = {}\n",
    "for i in num_topics:\n",
    "    LDA_models[i] = LdaModel(corpus=corpus, id2word=id2word, chunksize=550, \\\n",
    "                       alpha='auto', eta='auto', \\\n",
    "                       iterations=100, num_topics=i, \\\n",
    "                       passes=10, eval_every=1)\n",
    "                             \n",
    "\n",
    "    shown_topics = LDA_models[i].show_topics(num_topics=i, \n",
    "                                             num_words=num_keywords,\n",
    "                                             formatted=False)\n",
    "    LDA_topics[i] = [[word[0] for word in topic[1]] for topic in shown_topics]"
   ]
  },
  {
   "cell_type": "code",
   "execution_count": 92,
   "metadata": {},
   "outputs": [],
   "source": [
    "# helper function to get jaccard similarity between 2 topics\n",
    "\n",
    "def jaccard_similarity(topic_1, topic_2):\n",
    "    \"\"\"\n",
    "    Derives the Jaccard similarity of two topics\n",
    "\n",
    "    Jaccard similarity:\n",
    "    - A statistic used for comparing the similarity and diversity of sample sets\n",
    "    - J(A,B) = (A ∩ B)/(A ∪ B)\n",
    "    - Goal is low Jaccard scores for coverage of the diverse elements\n",
    "    \"\"\"\n",
    "    intersection = set(topic_1).intersection(set(topic_2))\n",
    "    union = set(topic_1).union(set(topic_2))\n",
    "                    \n",
    "    return float(len(intersection))/float(len(union))"
   ]
  },
  {
   "cell_type": "code",
   "execution_count": 93,
   "metadata": {},
   "outputs": [],
   "source": [
    "# deriving mean stability across topics\n",
    "LDA_stability = {}\n",
    "for i in range(0, len(num_topics)-1):\n",
    "    jaccard_sims = []\n",
    "    for t1, topic1 in enumerate(LDA_topics[num_topics[i]]): # pylint: disable=unused-variable\n",
    "        sims = []\n",
    "        for t2, topic2 in enumerate(LDA_topics[num_topics[i+1]]): # pylint: disable=unused-variable\n",
    "            sims.append(jaccard_similarity(topic1, topic2))    \n",
    "        \n",
    "        jaccard_sims.append(sims)    \n",
    "    \n",
    "    LDA_stability[num_topics[i]] = jaccard_sims\n",
    "                \n",
    "mean_stabilities = [np.array(LDA_stability[i]).mean() for i in num_topics[:-1]]"
   ]
  },
  {
   "cell_type": "code",
   "execution_count": 116,
   "metadata": {},
   "outputs": [],
   "source": [
    "# calculate coherence scores for all the LDA models with diff no. of topics\n",
    "coherences = [CoherenceModel(model=LDA_models[i], corpus=corpus, coherence='u_mass').get_coherence()\\\n",
    "              for i in num_topics[:-1]]"
   ]
  },
  {
   "cell_type": "code",
   "execution_count": 109,
   "metadata": {},
   "outputs": [],
   "source": [
    "# determining ideal number of topics\n",
    "coh_sta_diffs = [coherences[i] - mean_stabilities[i] for i in range(num_keywords)[:-1]] # limit topic numbers to the number of keywords\n",
    "coh_sta_max = max(coh_sta_diffs)\n",
    "coh_sta_max_idxs = [i for i, j in enumerate(coh_sta_diffs) if j == coh_sta_max]\n",
    "ideal_topic_num_index = coh_sta_max_idxs[0] # choose less topics in case there's more than one max\n",
    "ideal_topic_num = num_topics[ideal_topic_num_index]"
   ]
  },
  {
   "cell_type": "code",
   "execution_count": 120,
   "metadata": {},
   "outputs": [
    {
     "data": {
      "image/png": "[encoded data removed]",
      "text/plain": [
       "<Figure size 1440x720 with 1 Axes>"
      ]
     },
     "metadata": {
      "needs_background": "light"
     },
     "output_type": "display_data"
    }
   ],
   "source": [
    "# graph to visualize coherence scores for each no. of topics\n",
    "\n",
    "import seaborn as sns\n",
    "import matplotlib.pyplot as plt\n",
    "\n",
    "plt.figure(figsize=(20,10))\n",
    "ax = sns.lineplot(x=num_topics[:-1], y=mean_stabilities, label='Average Topic Overlap')\n",
    "ax = sns.lineplot(x=num_topics[:-1], y=coherences, label='Topic Coherence')\n",
    "\n",
    "ax.axvline(x=ideal_topic_num, label='Ideal Number of Topics', color='black')\n",
    "ax.axvspan(xmin=ideal_topic_num - 1, xmax=ideal_topic_num + 1, alpha=0.5, facecolor='grey')\n",
    "\n",
    "y_max = max(max(mean_stabilities), max(coherences)) + (0.10 * max(max(mean_stabilities), max(coherences)))\n",
    "ax.set_ylim([-5, 1])\n",
    "ax.set_xlim([1, num_topics[-1]-1])\n",
    "                \n",
    "ax.axes.set_title('Model Metrics per Number of Topics', fontsize=25)\n",
    "ax.set_ylabel('Metric Level', fontsize=20)\n",
    "ax.set_xlabel('Number of Topics', fontsize=20)\n",
    "plt.legend(fontsize=20)\n",
    "plt.show()   "
   ]
  },
  {
   "cell_type": "markdown",
   "metadata": {},
   "source": [
    "**Train LDA model**"
   ]
  },
  {
   "cell_type": "code",
   "execution_count": 121,
   "metadata": {
    "scrolled": true
   },
   "outputs": [
    {
     "name": "stdout",
     "output_type": "stream",
     "text": [
      "Wall time: 4min 18s\n"
     ]
    }
   ],
   "source": [
    "from gensim.models import LdaModel\n",
    "\n",
    "num_topics = 2\n",
    "chunksize = 550 # size of the doc looked at every pass\n",
    "passes = 10 # number of passes through documents\n",
    "iterations = 150\n",
    "eval_every = 1  # Don't evaluate model perplexity, takes too much time.\n",
    "\n",
    "# Make a index to word dictionary.\n",
    "temp = dictionary[0]  # This is only to \"load\" the dictionary.\n",
    "id2word = dictionary.id2token\n",
    "\n",
    "%time lda_model = LdaModel(corpus=corpus, id2word=id2word, chunksize=chunksize, \\\n",
    "                       alpha='auto', eta='auto', \\\n",
    "                       iterations=iterations, num_topics=num_topics, \\\n",
    "                       passes=passes, eval_every=eval_every)"
   ]
  },
  {
   "cell_type": "code",
   "execution_count": 122,
   "metadata": {},
   "outputs": [],
   "source": [
    "import pyLDAvis.gensim\n",
    "pyLDAvis.enable_notebook()\n",
    "\n",
    "import warnings\n",
    "warnings.filterwarnings(\"ignore\", category=DeprecationWarning) "
   ]
  },
  {
   "cell_type": "markdown",
   "metadata": {},
   "source": [
    "**Visualize LDA clusters**"
   ]
  },
  {
   "cell_type": "code",
   "execution_count": 123,
   "metadata": {},
   "outputs": [
    {
     "name": "stderr",
     "output_type": "stream",
     "text": [
      "C:\\Users\\karth\\Anaconda3\\lib\\site-packages\\pyLDAvis\\_prepare.py:257: FutureWarning: Sorting because non-concatenation axis is not aligned. A future version\n",
      "of pandas will change to not sort by default.\n",
      "\n",
      "To accept the future behavior, pass 'sort=False'.\n",
      "\n",
      "To retain the current behavior and silence the warning, pass 'sort=True'.\n",
      "\n",
      "  return pd.concat([default_term_info] + list(topic_dfs))\n"
     ]
    },
    {
     "data": {
      "text/html": [
       "\n",
       "<link rel=\"stylesheet\" type=\"text/css\" href=\"https://cdn.rawgit.com/bmabey/pyLDAvis/files/ldavis.v1.0.0.css\">\n",
       "\n",
       "\n",
       "<div id=\"ldavis_el1540825211260659928866402880\"></div>\n",
       "<script type=\"text/javascript\">\n",
       "\n",
       "var ldavis_el1540825211260659928866402880_data = {\"mdsDat\": {\"x\": [0.16281446814537046, -0.16281446814537046], \"y\": [0.0, 0.0], \"topics\": [1, 2], \"cluster\": [1, 1], \"Freq\": [70.90785217285156, 29.092147827148438]}, \"tinfo\": {\"Category\": [\"Default\", \"Default\", \"Default\", \"Default\", \"Default\", \"Default\", \"Default\", \"Default\", \"Default\", \"Default\", \"Default\", \"Default\", \"Default\", \"Default\", \"Default\", \"Default\", \"Default\", \"Default\", \"Default\", \"Default\", \"Default\", \"Default\", \"Default\", \"Default\", \"Default\", \"Default\", \"Default\", \"Default\", \"Default\", \"Default\", \"Topic1\", \"Topic1\", \"Topic1\", \"Topic1\", \"Topic1\", \"Topic1\", \"Topic1\", \"Topic1\", \"Topic1\", \"Topic1\", \"Topic1\", \"Topic1\", \"Topic1\", \"Topic1\", \"Topic1\", \"Topic1\", \"Topic1\", \"Topic1\", \"Topic1\", \"Topic1\", \"Topic1\", \"Topic1\", \"Topic1\", \"Topic1\", \"Topic1\", \"Topic1\", \"Topic1\", \"Topic1\", \"Topic1\", \"Topic1\", \"Topic1\", \"Topic1\", \"Topic1\", \"Topic1\", \"Topic1\", \"Topic1\", \"Topic1\", \"Topic1\", \"Topic1\", \"Topic1\", \"Topic1\", \"Topic1\", \"Topic1\", \"Topic1\", \"Topic1\", \"Topic1\", \"Topic1\", \"Topic1\", \"Topic1\", \"Topic1\", \"Topic1\", \"Topic1\", \"Topic1\", \"Topic1\", \"Topic1\", \"Topic1\", \"Topic1\", \"Topic1\", \"Topic1\", \"Topic1\", \"Topic1\", \"Topic1\", \"Topic1\", \"Topic1\", \"Topic1\", \"Topic1\", \"Topic1\", \"Topic1\", \"Topic2\", \"Topic2\", \"Topic2\", \"Topic2\", \"Topic2\", \"Topic2\", \"Topic2\", \"Topic2\", \"Topic2\", \"Topic2\", \"Topic2\", \"Topic2\", \"Topic2\", \"Topic2\", \"Topic2\", \"Topic2\", \"Topic2\", \"Topic2\", \"Topic2\", \"Topic2\", \"Topic2\", \"Topic2\", \"Topic2\", \"Topic2\", \"Topic2\", \"Topic2\", \"Topic2\", \"Topic2\", \"Topic2\", \"Topic2\", \"Topic2\", \"Topic2\", \"Topic2\", \"Topic2\", \"Topic2\", \"Topic2\", \"Topic2\", \"Topic2\", \"Topic2\", \"Topic2\", \"Topic2\", \"Topic2\", \"Topic2\", \"Topic2\", \"Topic2\", \"Topic2\", \"Topic2\", \"Topic2\", \"Topic2\", \"Topic2\", \"Topic2\", \"Topic2\", \"Topic2\", \"Topic2\", \"Topic2\", \"Topic2\", \"Topic2\"], \"Freq\": [3579.0, 2710.0, 2265.0, 4991.0, 6703.0, 1481.0, 3611.0, 1469.0, 1416.0, 1288.0, 3416.0, 1161.0, 1150.0, 4134.0, 1130.0, 1114.0, 1914.0, 1046.0, 993.0, 981.0, 6164.0, 875.0, 4131.0, 871.0, 831.0, 1478.0, 826.0, 825.0, 824.0, 807.0, 6702.5556640625, 2117.3037109375, 1801.02001953125, 1905.330078125, 4133.1591796875, 1635.8990478515625, 2447.241943359375, 1702.1876220703125, 1293.9910888671875, 1381.2926025390625, 1985.9698486328125, 1180.6519775390625, 1409.0941162109375, 1294.9034423828125, 1199.041259765625, 1150.59375, 1102.32666015625, 1216.9698486328125, 1201.9222412109375, 1139.789306640625, 1141.7908935546875, 1225.1798095703125, 1114.77978515625, 1099.1370849609375, 1347.0115966796875, 923.5908203125, 817.946044921875, 1400.3753662109375, 1313.7154541015625, 937.7957153320312, 2287.153076171875, 1799.64404296875, 1637.552490234375, 1512.4505615234375, 1558.2296142578125, 1148.1510009765625, 4126.5302734375, 1669.41943359375, 1608.574462890625, 1236.1553955078125, 3315.042724609375, 2929.423583984375, 2268.0966796875, 2660.679443359375, 2046.0447998046875, 3868.175537109375, 7631.69775390625, 1536.3807373046875, 6124.36279296875, 6495.7353515625, 4738.16259765625, 5070.69189453125, 2087.88134765625, 3112.725341796875, 6194.1318359375, 2242.535400390625, 2816.55712890625, 3843.188720703125, 1996.4415283203125, 2780.443115234375, 2923.629150390625, 3027.1220703125, 3880.24169921875, 2758.444580078125, 2686.506591796875, 2491.31201171875, 2388.4091796875, 2249.27294921875, 3578.6748046875, 2710.161865234375, 2264.702392578125, 1469.2493896484375, 1149.6380615234375, 1160.760498046875, 1415.9678955078125, 992.4588623046875, 1129.572998046875, 825.0768432617188, 871.0380249023438, 806.4354248046875, 875.1530151367188, 823.7001342773438, 830.7643432617188, 825.3778686523438, 980.2222900390625, 672.568115234375, 662.207763671875, 692.7850341796875, 1480.2135009765625, 725.0781860351562, 510.8578186035156, 515.6097412109375, 535.9283447265625, 775.1556396484375, 580.788330078125, 520.16748046875, 555.8421630859375, 603.7055053710938, 1285.941650390625, 1112.1436767578125, 769.2482299804688, 778.1590576171875, 1041.029052734375, 731.8937377929688, 648.490966796875, 708.4508666992188, 2926.257080078125, 2120.099365234375, 1341.8270263671875, 1895.96630859375, 873.2027587890625, 2284.56201171875, 1743.366943359375, 1043.006103515625, 2001.249267578125, 1218.3638916015625, 1109.4085693359375, 1203.285400390625, 1276.5946044921875, 1068.408447265625, 1085.484375, 1077.082275390625, 1045.6885986328125, 1148.0960693359375, 1040.8282470703125], \"Term\": [\"tax\", \"money\", \"pay\", \"year\", \"trump\", \"business\", \"state\", \"cost\", \"city\", \"home\", \"government\", \"company\", \"oil\", \"right\", \"alaska\", \"school\", \"job\", \"service\", \"price\", \"health\", \"get\", \"rate\", \"need\", \"market\", \"car\", \"million\", \"increase\", \"income\", \"dollar\", \"billion\", \"trump\", \"woman\", \"president\", \"comment\", \"right\", \"party\", \"law\", \"vote\", \"white\", \"man\", \"liberal\", \"god\", \"republican\", \"post\", \"obama\", \"clinton\", \"church\", \"news\", \"election\", \"war\", \"medium\", \"word\", \"conservative\", \"political\", \"read\", \"he\", \"hillary\", \"youre\", \"story\", \"opinion\", \"said\", \"american\", \"believe\", \"person\", \"someone\", \"mr\", \"know\", \"didnt\", \"article\", \"wrong\", \"say\", \"thing\", \"im\", \"country\", \"fact\", \"think\", \"people\", \"anything\", \"like\", \"one\", \"u\", \"dont\", \"really\", \"see\", \"would\", \"never\", \"well\", \"time\", \"life\", \"good\", \"even\", \"make\", \"get\", \"way\", \"many\", \"want\", \"need\", \"go\", \"tax\", \"money\", \"pay\", \"cost\", \"oil\", \"company\", \"city\", \"price\", \"alaska\", \"income\", \"market\", \"billion\", \"rate\", \"dollar\", \"car\", \"increase\", \"health\", \"fund\", \"industry\", \"per\", \"business\", \"economy\", \"gas\", \"insurance\", \"budget\", \"cut\", \"property\", \"project\", \"food\", \"buy\", \"home\", \"school\", \"paid\", \"benefit\", \"service\", \"plan\", \"paying\", \"area\", \"year\", \"state\", \"job\", \"government\", \"federal\", \"get\", \"need\", \"million\", \"would\", \"work\", \"new\", \"go\", \"time\", \"going\", \"much\", \"make\", \"many\", \"people\", \"one\"], \"Total\": [3579.0, 2710.0, 2265.0, 4991.0, 6703.0, 1481.0, 3611.0, 1469.0, 1416.0, 1288.0, 3416.0, 1161.0, 1150.0, 4134.0, 1130.0, 1114.0, 1914.0, 1046.0, 993.0, 981.0, 6164.0, 875.0, 4131.0, 871.0, 831.0, 1478.0, 826.0, 825.0, 824.0, 807.0, 6703.1181640625, 2117.882080078125, 1801.5670166015625, 1905.94873046875, 4134.63671875, 1636.5408935546875, 2448.2353515625, 1702.897216796875, 1294.5599365234375, 1381.9100341796875, 1986.8797607421875, 1181.1954345703125, 1409.7557373046875, 1295.516357421875, 1199.6156005859375, 1151.1500244140625, 1102.870361328125, 1217.5732421875, 1202.5196533203125, 1140.37158203125, 1142.377197265625, 1225.823974609375, 1115.430908203125, 1099.7928466796875, 1347.851806640625, 924.1776733398438, 818.469970703125, 1401.273681640625, 1314.5775146484375, 938.4163818359375, 2290.13134765625, 1801.56298828125, 1639.921875, 1513.78857421875, 1564.123779296875, 1148.95654296875, 4189.18505859375, 1677.9873046875, 1616.9691162109375, 1238.1949462890625, 3420.97216796875, 3033.84033203125, 2326.0869140625, 2759.63916015625, 2099.9775390625, 4155.42919921875, 8779.7939453125, 1559.1484375, 7058.9345703125, 7536.5634765625, 5481.6767578125, 5949.27392578125, 2212.585205078125, 3583.54638671875, 8195.380859375, 2468.318359375, 3330.33447265625, 5119.783203125, 2155.962646484375, 3508.63720703125, 3829.681640625, 4104.2041015625, 6164.8037109375, 3621.50927734375, 3732.1953125, 3391.28076171875, 4131.7763671875, 3452.558349609375, 3579.257568359375, 2710.962646484375, 2265.39404296875, 1469.905517578125, 1150.1982421875, 1161.404296875, 1416.77783203125, 993.0301513671875, 1130.3177490234375, 825.6290283203125, 871.6611328125, 807.0560913085938, 875.8356323242188, 824.3600463867188, 831.44091796875, 826.05419921875, 981.0548706054688, 673.178955078125, 662.86962890625, 693.4822998046875, 1481.8035888671875, 725.874755859375, 511.4273986816406, 516.1878051757812, 536.5394897460938, 776.0460205078125, 581.4721069335938, 520.7858276367188, 556.5052490234375, 604.4259643554688, 1288.9105224609375, 1114.7413330078125, 770.2047119140625, 779.2537841796875, 1046.3271484375, 733.405029296875, 649.298583984375, 710.1270751953125, 4991.1748046875, 3611.730224609375, 1914.1580810546875, 3416.4423828125, 1013.74755859375, 6164.8037109375, 4131.7763671875, 1478.7994384765625, 8195.380859375, 2471.09033203125, 2024.8797607421875, 3452.558349609375, 5119.783203125, 2794.686279296875, 3101.261474609375, 4104.2041015625, 3732.1953125, 8779.7939453125, 7536.5634765625], \"loglift\": [30.0, 29.0, 28.0, 27.0, 26.0, 25.0, 24.0, 23.0, 22.0, 21.0, 20.0, 19.0, 18.0, 17.0, 16.0, 15.0, 14.0, 13.0, 12.0, 11.0, 10.0, 9.0, 8.0, 7.0, 6.0, 5.0, 4.0, 3.0, 2.0, 1.0, 0.34369999170303345, 0.3434999883174896, 0.3434999883174896, 0.3434999883174896, 0.3434000015258789, 0.3434000015258789, 0.3434000015258789, 0.3434000015258789, 0.3433000147342682, 0.3433000147342682, 0.3433000147342682, 0.3433000147342682, 0.3433000147342682, 0.3433000147342682, 0.3433000147342682, 0.3433000147342682, 0.3433000147342682, 0.3433000147342682, 0.3433000147342682, 0.3433000147342682, 0.3433000147342682, 0.3433000147342682, 0.3431999981403351, 0.3431999981403351, 0.3431999981403351, 0.3431999981403351, 0.34310001134872437, 0.34310001134872437, 0.34310001134872437, 0.34310001134872437, 0.3425000011920929, 0.3427000045776367, 0.3422999978065491, 0.34290000796318054, 0.3400000035762787, 0.34310001134872437, 0.3287000060081482, 0.33869999647140503, 0.3386000096797943, 0.34209999442100525, 0.3122999966144562, 0.30880001187324524, 0.31850001215934753, 0.30730000138282776, 0.31779998540878296, 0.27219998836517334, 0.20360000431537628, 0.32910001277923584, 0.20180000364780426, 0.19519999623298645, 0.1979999989271164, 0.18400000035762787, 0.2858000099658966, 0.2029000073671341, 0.06379999965429306, 0.24789999425411224, 0.1762000024318695, 0.05700000002980232, 0.2669000029563904, 0.1111999973654747, 0.0737999975681305, 0.039400000125169754, -0.11919999867677689, 0.07159999758005142, 0.014999999664723873, 0.03539999946951866, -0.20430000126361847, -0.08470000326633453, 1.2345000505447388, 1.2344000339508057, 1.2344000339508057, 1.2343000173568726, 1.2342000007629395, 1.2340999841690063, 1.2340999841690063, 1.2340999841690063, 1.2339999675750732, 1.2339999675750732, 1.2339999675750732, 1.2338999509811401, 1.2338999509811401, 1.2338999509811401, 1.2338999509811401, 1.2338999509811401, 1.2338999509811401, 1.2338000535964966, 1.2337000370025635, 1.2337000370025635, 1.2336000204086304, 1.2336000204086304, 1.2336000204086304, 1.2336000204086304, 1.2336000204086304, 1.2336000204086304, 1.2335000038146973, 1.2335000038146973, 1.2335000038146973, 1.2335000038146973, 1.2323999404907227, 1.2323999404907227, 1.2335000038146973, 1.233299970626831, 1.229599952697754, 1.2325999736785889, 1.2335000038146973, 1.232300043106079, 0.7008000016212463, 0.7020000219345093, 0.8794999718666077, 0.645799994468689, 1.0855000019073486, 0.24199999868869781, 0.3718000054359436, 0.8855999708175659, -0.17509999871253967, 0.5275999903678894, 0.6330000162124634, 0.18060000240802765, -0.1542000025510788, 0.27320000529289246, 0.18490000069141388, -0.1031000018119812, -0.03759999945759773, -0.7996000051498413, -0.7450000047683716], \"logprob\": [30.0, 29.0, 28.0, 27.0, 26.0, 25.0, 24.0, 23.0, 22.0, 21.0, 20.0, 19.0, 18.0, 17.0, 16.0, 15.0, 14.0, 13.0, 12.0, 11.0, 10.0, 9.0, 8.0, 7.0, 6.0, 5.0, 4.0, 3.0, 2.0, 1.0, -4.950200080871582, -6.102499961853027, -6.2642998695373535, -6.208000183105469, -5.433599948883057, -6.360499858856201, -5.957699775695801, -6.320799827575684, -6.594900131225586, -6.529699802398682, -6.166600227355957, -6.686600208282471, -6.509699821472168, -6.594200134277344, -6.671199798583984, -6.712399959564209, -6.755300045013428, -6.656300067901611, -6.668799877166748, -6.721799850463867, -6.720099925994873, -6.649600028991699, -6.74399995803833, -6.758200168609619, -6.554800033569336, -6.932199954986572, -7.053599834442139, -6.515900135040283, -6.579800128936768, -6.916900157928467, -6.025400161743164, -6.265100002288818, -6.359499931335449, -6.438899993896484, -6.40910005569458, -6.7144999504089355, -5.435200214385986, -6.340199947357178, -6.377299785614014, -6.640699863433838, -5.654200077056885, -5.777900218963623, -6.033699989318848, -5.874100208282471, -6.1367998123168945, -5.499899864196777, -4.820400238037109, -6.423299789428711, -5.04040002822876, -4.981500148773193, -5.296999931335449, -5.2291998863220215, -6.116499900817871, -5.717199802398682, -5.029099941253662, -6.045100212097168, -5.817200183868408, -5.506400108337402, -6.161300182342529, -5.830100059509277, -5.779900074005127, -5.745100021362305, -5.496799945831299, -5.8379998207092285, -5.8643999099731445, -5.939899921417236, -5.982100009918213, -6.042099952697754, -4.686800003051758, -4.964799880981445, -5.1442999839782715, -5.577000141143799, -5.822299957275391, -5.812699794769287, -5.613999843597412, -5.969299793243408, -5.839900016784668, -6.1539998054504395, -6.099800109863281, -6.1768999099731445, -6.095099925994873, -6.155700206756592, -6.147200107574463, -6.15369987487793, -5.9816999435424805, -6.358399868011475, -6.373899936676025, -6.328800201416016, -5.5696001052856445, -6.283199787139893, -6.633399963378906, -6.624199867248535, -6.5854997634887695, -6.2164998054504395, -6.505099773406982, -6.6153998374938965, -6.548999786376953, -6.466400146484375, -5.710299968719482, -5.855500221252441, -6.224100112915039, -6.212600231170654, -5.921599864959717, -6.273900032043457, -6.394899845123291, -6.306399822235107, -4.888000011444092, -5.210299968719482, -5.667699813842773, -5.322000026702881, -6.097400188446045, -5.1356000900268555, -5.405900001525879, -5.9197001457214355, -5.26800012588501, -5.7642998695373535, -5.857900142669678, -5.776700019836426, -5.717599868774414, -5.895599842071533, -5.879700183868408, -5.887499809265137, -5.917099952697754, -5.823699951171875, -5.921800136566162]}, \"token.table\": {\"Topic\": [1, 2, 1, 2, 1, 2, 1, 2, 1, 2, 1, 2, 1, 2, 1, 2, 1, 2, 1, 2, 1, 2, 1, 2, 1, 2, 1, 2, 1, 2, 1, 2, 1, 2, 1, 2, 1, 2, 1, 2, 1, 2, 1, 2, 1, 2, 1, 2, 1, 2, 1, 2, 1, 2, 1, 2, 1, 2, 1, 2, 1, 2, 1, 2, 1, 2, 1, 2, 1, 2, 1, 2, 1, 2, 1, 2, 1, 2, 1, 2, 1, 2, 1, 2, 1, 2, 1, 2, 1, 2, 1, 2, 1, 2, 1, 2, 1, 2, 1, 2, 1, 2, 1, 2, 1, 2, 1, 2, 1, 2, 1, 2, 1, 2, 1, 2, 1, 2, 1, 2, 1, 2, 1, 2, 1, 2, 1, 2, 1, 2, 1, 2, 1, 2, 1, 2, 1, 2, 1, 2, 1, 2, 1, 2, 1, 2, 1, 2, 1, 2, 1, 2, 1, 2, 1, 2, 1, 2, 1, 2, 1, 2, 1, 2, 1, 2, 1, 2, 1, 2, 1, 2, 1, 2, 1, 2, 1, 2, 1, 2, 1, 2, 1, 2, 1, 2, 1, 2, 1, 2, 1, 2, 1, 2, 1, 2, 1, 2, 1, 2, 1, 2, 1, 2, 1, 2, 1, 2, 1, 2, 1, 2, 1, 2, 1, 2, 1, 2, 1, 2, 1, 2, 1, 2, 1, 2, 1, 2, 1, 2, 1, 2], \"Freq\": [0.0008847069693729281, 0.9997189044952393, 0.9991324543952942, 0.0011101471027359366, 0.9851531386375427, 0.014751642011106014, 0.0028163972310721874, 0.9970046281814575, 0.9950715899467468, 0.00494752824306488, 0.9988280534744263, 0.001219570287503302, 0.0012832789216190577, 0.9983910322189331, 0.0012390712508931756, 0.9986914396286011, 0.0018637956818565726, 0.9989945292472839, 0.001349706551991403, 0.9987828135490417, 0.0016544623067602515, 0.9992952346801758, 0.0012027312768623233, 0.9994696974754333, 0.9992108345031738, 0.0009067248902283609, 0.0007058269693516195, 0.9994509816169739, 0.9998696446418762, 0.0008686964865773916, 0.9995022416114807, 0.0005246730870567262, 0.0008610265795141459, 0.9996519088745117, 0.9996137022972107, 0.0008965145098045468, 0.0006803158321417868, 0.9993839859962463, 0.9642565250396729, 0.03587425500154495, 0.001288583385758102, 0.9986521005630493, 0.9946439862251282, 0.005363568663597107, 0.0012130622053518891, 0.9995632171630859, 0.852372944355011, 0.147749125957489, 0.0013776480918750167, 0.9987949132919312, 0.9995678663253784, 0.0008315872400999069, 0.7635099291801453, 0.23657318949699402, 0.9742961525917053, 0.025714561343193054, 0.13908788561820984, 0.8611611127853394, 0.001796928234398365, 0.9990921020507812, 0.0014854890760034323, 0.9997341632843018, 0.001955311745405197, 0.9991642832756042, 0.6293793320655823, 0.37065252661705017, 0.6514009833335876, 0.34843727946281433, 0.9998345375061035, 0.0008465999271720648, 0.6176006197929382, 0.38215380907058716, 0.7923304438591003, 0.20748797059059143, 0.4449072480201721, 0.554963231086731, 0.9998077750205994, 0.0010820430470630527, 0.0010193110210821033, 0.998924732208252, 0.9994257688522339, 0.0012217919575050473, 0.002327547175809741, 0.9977418780326843, 0.9750280380249023, 0.02493458054959774, 0.001211197697557509, 0.999238133430481, 0.0012105742935091257, 0.9987238049507141, 0.0015085922786965966, 0.9986881017684937, 0.0019372793613001704, 0.999636173248291, 0.2988258898258209, 0.7010915279388428, 0.9851558208465576, 0.015038724057376385, 0.9994953870773315, 0.0004084574757143855, 0.9995571970939636, 0.0005033017368987203, 0.9258045554161072, 0.07421278953552246, 0.8675529956817627, 0.1324562430381775, 0.7375364303588867, 0.2624138593673706, 0.9993414878845215, 0.0007236361270770431, 0.7199516296386719, 0.2802639901638031, 0.0011472348123788834, 0.9992415308952332, 0.9996697902679443, 0.0008753676083870232, 0.2948337495326996, 0.7053018808364868, 0.00036887265741825104, 0.999644935131073, 0.9991674423217773, 0.0008703549392521381, 0.6500580310821533, 0.3498576283454895, 0.5779596567153931, 0.4218524396419525, 0.9087158441543579, 0.09156031161546707, 0.45187869668006897, 0.5476868152618408, 0.9995291829109192, 0.0008213058463297784, 0.9994868636131287, 0.0008336003520525992, 0.000869415351189673, 0.9998276233673096, 0.861931324005127, 0.13812661170959473, 0.999556303024292, 0.0010656249942258, 0.0012983561027795076, 0.9984358549118042, 0.9996694922447205, 0.0006110449321568012, 0.0004414243157953024, 0.9998260736465454, 0.0015401234850287437, 0.9980000257492065, 0.8692687153816223, 0.13075478374958038, 0.0014419978251680732, 0.9993045330047607, 0.9988184571266174, 0.0006605942035093904, 0.00272700609639287, 0.9980842471122742, 0.9992790818214417, 0.0009092621621675789, 0.999601423740387, 0.0007718930137343705, 0.9996852874755859, 0.0005550723290070891, 0.0010070187272503972, 0.9989626407623291, 0.0019201751565560699, 0.9984910488128662, 0.0017197729321196675, 0.9991880655288696, 0.0011417667847126722, 0.9990459084510803, 0.9993680119514465, 0.000741921307053417, 0.9436924457550049, 0.056494999676942825, 0.9994639158248901, 0.0007093427702784538, 0.9996041655540466, 0.00024185921938624233, 0.9986326694488525, 0.0013099685311317444, 0.969022810459137, 0.03098534420132637, 0.0026912072207778692, 0.9975408315658569, 0.8686925172805786, 0.13143405318260193, 0.004778620321303606, 0.9949086904525757, 0.9960848689079285, 0.0038360136095434427, 0.41309839487075806, 0.5869762897491455, 0.9995607137680054, 0.0007607006700709462, 0.00027938754647038877, 0.9999280571937561, 0.9654430150985718, 0.03427998349070549, 0.9308304190635681, 0.06906627118587494, 0.7506177425384521, 0.24942462146282196, 0.9999823570251465, 0.0001491842995164916, 0.8643340468406677, 0.13572488725185394, 0.9994730949401855, 0.0005872345063835382, 0.7345307469367981, 0.2653864622116089, 0.9996741414070129, 0.0008769071428105235, 0.7615609169006348, 0.2382984310388565, 0.8458609580993652, 0.15433885157108307, 0.999567449092865, 0.0007724632741883397, 0.9995834827423096, 0.00047216980601660907, 0.9993278384208679, 0.0008157778065651655, 0.507063627243042, 0.4928998351097107, 0.7557916045188904, 0.2441619336605072, 0.9982272982597351, 0.0016152545576915145, 0.413730263710022, 0.5862347483634949, 0.9990910291671753, 0.0007136364583857358], \"Term\": [\"alaska\", \"alaska\", \"american\", \"american\", \"anything\", \"anything\", \"area\", \"area\", \"article\", \"article\", \"believe\", \"believe\", \"benefit\", \"benefit\", \"billion\", \"billion\", \"budget\", \"budget\", \"business\", \"business\", \"buy\", \"buy\", \"car\", \"car\", \"church\", \"church\", \"city\", \"city\", \"clinton\", \"clinton\", \"comment\", \"comment\", \"company\", \"company\", \"conservative\", \"conservative\", \"cost\", \"cost\", \"country\", \"country\", \"cut\", \"cut\", \"didnt\", \"didnt\", \"dollar\", \"dollar\", \"dont\", \"dont\", \"economy\", \"economy\", \"election\", \"election\", \"even\", \"even\", \"fact\", \"fact\", \"federal\", \"federal\", \"food\", \"food\", \"fund\", \"fund\", \"gas\", \"gas\", \"get\", \"get\", \"go\", \"go\", \"god\", \"god\", \"going\", \"going\", \"good\", \"good\", \"government\", \"government\", \"he\", \"he\", \"health\", \"health\", \"hillary\", \"hillary\", \"home\", \"home\", \"im\", \"im\", \"income\", \"income\", \"increase\", \"increase\", \"industry\", \"industry\", \"insurance\", \"insurance\", \"job\", \"job\", \"know\", \"know\", \"law\", \"law\", \"liberal\", \"liberal\", \"life\", \"life\", \"like\", \"like\", \"make\", \"make\", \"man\", \"man\", \"many\", \"many\", \"market\", \"market\", \"medium\", \"medium\", \"million\", \"million\", \"money\", \"money\", \"mr\", \"mr\", \"much\", \"much\", \"need\", \"need\", \"never\", \"never\", \"new\", \"new\", \"news\", \"news\", \"obama\", \"obama\", \"oil\", \"oil\", \"one\", \"one\", \"opinion\", \"opinion\", \"paid\", \"paid\", \"party\", \"party\", \"pay\", \"pay\", \"paying\", \"paying\", \"people\", \"people\", \"per\", \"per\", \"person\", \"person\", \"plan\", \"plan\", \"political\", \"political\", \"post\", \"post\", \"president\", \"president\", \"price\", \"price\", \"project\", \"project\", \"property\", \"property\", \"rate\", \"rate\", \"read\", \"read\", \"really\", \"really\", \"republican\", \"republican\", \"right\", \"right\", \"said\", \"said\", \"say\", \"say\", \"school\", \"school\", \"see\", \"see\", \"service\", \"service\", \"someone\", \"someone\", \"state\", \"state\", \"story\", \"story\", \"tax\", \"tax\", \"thing\", \"thing\", \"think\", \"think\", \"time\", \"time\", \"trump\", \"trump\", \"u\", \"u\", \"vote\", \"vote\", \"want\", \"want\", \"war\", \"war\", \"way\", \"way\", \"well\", \"well\", \"white\", \"white\", \"woman\", \"woman\", \"word\", \"word\", \"work\", \"work\", \"would\", \"would\", \"wrong\", \"wrong\", \"year\", \"year\", \"youre\", \"youre\"]}, \"R\": 30, \"lambda.step\": 0.01, \"plot.opts\": {\"xlab\": \"PC1\", \"ylab\": \"PC2\"}, \"topic.order\": [2, 1]};\n",
       "\n",
       "function LDAvis_load_lib(url, callback){\n",
       "  var s = document.createElement('script');\n",
       "  s.src = url;\n",
       "  s.async = true;\n",
       "  s.onreadystatechange = s.onload = callback;\n",
       "  s.onerror = function(){console.warn(\"failed to load library \" + url);};\n",
       "  document.getElementsByTagName(\"head\")[0].appendChild(s);\n",
       "}\n",
       "\n",
       "if(typeof(LDAvis) !== \"undefined\"){\n",
       "   // already loaded: just create the visualization\n",
       "   !function(LDAvis){\n",
       "       new LDAvis(\"#\" + \"ldavis_el1540825211260659928866402880\", ldavis_el1540825211260659928866402880_data);\n",
       "   }(LDAvis);\n",
       "}else if(typeof define === \"function\" && define.amd){\n",
       "   // require.js is available: use it to load d3/LDAvis\n",
       "   require.config({paths: {d3: \"https://cdnjs.cloudflare.com/ajax/libs/d3/3.5.5/d3.min\"}});\n",
       "   require([\"d3\"], function(d3){\n",
       "      window.d3 = d3;\n",
       "      LDAvis_load_lib(\"https://cdn.rawgit.com/bmabey/pyLDAvis/files/ldavis.v1.0.0.js\", function(){\n",
       "        new LDAvis(\"#\" + \"ldavis_el1540825211260659928866402880\", ldavis_el1540825211260659928866402880_data);\n",
       "      });\n",
       "    });\n",
       "}else{\n",
       "    // require.js not available: dynamically load d3 & LDAvis\n",
       "    LDAvis_load_lib(\"https://cdnjs.cloudflare.com/ajax/libs/d3/3.5.5/d3.min.js\", function(){\n",
       "         LDAvis_load_lib(\"https://cdn.rawgit.com/bmabey/pyLDAvis/files/ldavis.v1.0.0.js\", function(){\n",
       "                 new LDAvis(\"#\" + \"ldavis_el1540825211260659928866402880\", ldavis_el1540825211260659928866402880_data);\n",
       "            })\n",
       "         });\n",
       "}\n",
       "</script>"
      ],
      "text/plain": [
       "PreparedData(topic_coordinates=              x    y  topics  cluster       Freq\n",
       "topic                                           \n",
       "1      0.162814  0.0       1        1  70.907852\n",
       "0     -0.162814  0.0       2        1  29.092148, topic_info=    Category         Freq    Term        Total  loglift  logprob\n",
       "72   Default  3579.000000     tax  3579.000000  30.0000  30.0000\n",
       "52   Default  2710.000000   money  2710.000000  29.0000  29.0000\n",
       "265  Default  2265.000000     pay  2265.000000  28.0000  28.0000\n",
       "221  Default  4991.000000    year  4991.000000  27.0000  27.0000\n",
       "283  Default  6703.000000   trump  6703.000000  26.0000  26.0000\n",
       "..       ...          ...     ...          ...      ...      ...\n",
       "203   Topic2  1085.484375    much  3101.261475   0.1849  -5.8797\n",
       "475   Topic2  1077.082275    make  4104.204102  -0.1031  -5.8875\n",
       "51    Topic2  1045.688599    many  3732.195312  -0.0376  -5.9171\n",
       "59    Topic2  1148.096069  people  8779.793945  -0.7996  -5.8237\n",
       "135   Topic2  1040.828247     one  7536.563477  -0.7450  -5.9218\n",
       "\n",
       "[155 rows x 6 columns], token_table=      Topic      Freq      Term\n",
       "term                           \n",
       "1364      1  0.000885    alaska\n",
       "1364      2  0.999719    alaska\n",
       "1032      1  0.999132  american\n",
       "1032      2  0.001110  american\n",
       "1591      1  0.985153  anything\n",
       "...     ...       ...       ...\n",
       "84        2  0.001615     wrong\n",
       "221       1  0.413730      year\n",
       "221       2  0.586235      year\n",
       "2472      1  0.999091     youre\n",
       "2472      2  0.000714     youre\n",
       "\n",
       "[232 rows x 3 columns], R=30, lambda_step=0.01, plot_opts={'xlab': 'PC1', 'ylab': 'PC2'}, topic_order=[2, 1])"
      ]
     },
     "execution_count": 123,
     "metadata": {},
     "output_type": "execute_result"
    }
   ],
   "source": [
    "pyLDAvis.gensim.prepare(lda_model, corpus, dictionary)"
   ]
  },
  {
   "cell_type": "code",
   "execution_count": 126,
   "metadata": {},
   "outputs": [
    {
     "name": "stdout",
     "output_type": "stream",
     "text": [
      "------ Topic 0 ------\n",
      "tax year money get pay state would government need business\n",
      "\n",
      "------ Topic 1 ------\n",
      "people trump one would like dont u right know get\n",
      "\n"
     ]
    }
   ],
   "source": [
    "words = [re.findall(r'\"([^\"]*)\"',t[1]) for t in lda_model.print_topics()]\n",
    "\n",
    "topics = [' '.join(t[0:10]) for t in words]\n",
    "\n",
    "# Getting the topics\n",
    "for id, t in enumerate(topics): \n",
    "    print(f\"------ Topic {id} ------\")\n",
    "    print(t, end=\"\\n\\n\")"
   ]
  },
  {
   "cell_type": "code",
   "execution_count": 127,
   "metadata": {},
   "outputs": [
    {
     "name": "stdout",
     "output_type": "stream",
     "text": [
      "Wall time: 5min 23s\n"
     ]
    }
   ],
   "source": [
    "from gensim.models import LdaModel\n",
    "\n",
    "num_topics = 10\n",
    "chunksize = 550 # size of the doc looked at every pass\n",
    "passes = 10 # number of passes through documents\n",
    "iterations = 150\n",
    "eval_every = 1  # Don't evaluate model perplexity, takes too much time.\n",
    "\n",
    "# Make a index to word dictionary.\n",
    "temp = dictionary[0]  # This is only to \"load\" the dictionary.\n",
    "id2word = dictionary.id2token\n",
    "\n",
    "%time lda_model = LdaModel(corpus=corpus, id2word=id2word, chunksize=chunksize, \\\n",
    "                       alpha='auto', eta='auto', \\\n",
    "                       iterations=iterations, num_topics=num_topics, \\\n",
    "                       passes=passes, eval_every=eval_every)"
   ]
  },
  {
   "cell_type": "code",
   "execution_count": 128,
   "metadata": {},
   "outputs": [
    {
     "name": "stderr",
     "output_type": "stream",
     "text": [
      "C:\\Users\\karth\\Anaconda3\\lib\\site-packages\\pyLDAvis\\_prepare.py:257: FutureWarning: Sorting because non-concatenation axis is not aligned. A future version\n",
      "of pandas will change to not sort by default.\n",
      "\n",
      "To accept the future behavior, pass 'sort=False'.\n",
      "\n",
      "To retain the current behavior and silence the warning, pass 'sort=True'.\n",
      "\n",
      "  return pd.concat([default_term_info] + list(topic_dfs))\n"
     ]
    },
    {
     "data": {
      "text/html": [
       "\n",
       "<link rel=\"stylesheet\" type=\"text/css\" href=\"https://cdn.rawgit.com/bmabey/pyLDAvis/files/ldavis.v1.0.0.css\">\n",
       "\n",
       "\n",
       "<div id=\"ldavis_el1540825211902089689403361994\"></div>\n",
       "<script type=\"text/javascript\">\n",
       "\n",
       "var ldavis_el1540825211902089689403361994_data = {\"mdsDat\": {\"x\": [0.3805753280731008, 0.14076461881069202, 0.12253849603077754, 0.017374061032559014, -0.0697363977068839, -0.08598388630348987, -0.09602598120091677, -0.1253155949336509, -0.14176544136527516, -0.1424252024369127], \"y\": [-0.19052304460887337, 0.3737453000120156, 0.08576692035537883, -0.1580684845406527, -6.819018892223309e-05, -0.05603340087800555, -0.003142582292362588, -0.019814553700280957, -0.016242470754997823, -0.015619493403298898], \"topics\": [1, 2, 3, 4, 5, 6, 7, 8, 9, 10], \"cluster\": [1, 1, 1, 1, 1, 1, 1, 1, 1, 1], \"Freq\": [42.82904052734375, 12.485677719116211, 11.037223815917969, 8.316924095153809, 6.240893363952637, 5.907856464385986, 5.149526119232178, 3.9044792652130127, 2.18501877784729, 1.9433671236038208]}, \"tinfo\": {\"Category\": [\"Default\", \"Default\", \"Default\", \"Default\", \"Default\", \"Default\", \"Default\", \"Default\", \"Default\", \"Default\", \"Default\", \"Default\", \"Default\", \"Default\", \"Default\", \"Default\", \"Default\", \"Default\", \"Default\", \"Default\", \"Default\", \"Default\", \"Default\", \"Default\", \"Default\", \"Default\", \"Default\", \"Default\", \"Default\", \"Default\", \"Topic1\", \"Topic1\", \"Topic1\", \"Topic1\", \"Topic1\", \"Topic1\", \"Topic1\", \"Topic1\", \"Topic1\", \"Topic1\", \"Topic1\", \"Topic1\", \"Topic1\", \"Topic1\", \"Topic1\", \"Topic1\", \"Topic1\", \"Topic1\", \"Topic1\", \"Topic1\", \"Topic1\", \"Topic1\", \"Topic1\", \"Topic1\", \"Topic1\", \"Topic1\", \"Topic1\", \"Topic1\", \"Topic1\", \"Topic1\", \"Topic1\", \"Topic1\", \"Topic1\", \"Topic1\", \"Topic2\", \"Topic2\", \"Topic2\", \"Topic2\", \"Topic2\", \"Topic2\", \"Topic2\", \"Topic2\", \"Topic2\", \"Topic2\", \"Topic2\", \"Topic2\", \"Topic2\", \"Topic2\", \"Topic2\", \"Topic2\", \"Topic2\", \"Topic2\", \"Topic2\", \"Topic2\", \"Topic2\", \"Topic2\", \"Topic2\", \"Topic2\", \"Topic2\", \"Topic2\", \"Topic2\", \"Topic2\", \"Topic2\", \"Topic2\", \"Topic2\", \"Topic2\", \"Topic2\", \"Topic2\", \"Topic2\", \"Topic3\", \"Topic3\", \"Topic3\", \"Topic3\", \"Topic3\", \"Topic3\", \"Topic3\", \"Topic3\", \"Topic3\", \"Topic3\", \"Topic3\", \"Topic3\", \"Topic3\", \"Topic3\", \"Topic3\", \"Topic3\", \"Topic3\", \"Topic3\", \"Topic3\", \"Topic3\", \"Topic3\", \"Topic3\", \"Topic3\", \"Topic3\", \"Topic3\", \"Topic3\", \"Topic3\", \"Topic3\", \"Topic3\", \"Topic3\", \"Topic3\", \"Topic3\", \"Topic3\", \"Topic3\", \"Topic3\", \"Topic3\", \"Topic3\", \"Topic3\", \"Topic4\", \"Topic4\", \"Topic4\", \"Topic4\", \"Topic4\", \"Topic4\", \"Topic4\", \"Topic4\", \"Topic4\", \"Topic4\", \"Topic4\", \"Topic4\", \"Topic4\", \"Topic4\", \"Topic4\", \"Topic4\", \"Topic4\", \"Topic4\", \"Topic4\", \"Topic4\", \"Topic4\", \"Topic4\", \"Topic4\", \"Topic4\", \"Topic4\", \"Topic4\", \"Topic4\", \"Topic4\", \"Topic4\", \"Topic4\", \"Topic4\", \"Topic4\", \"Topic4\", \"Topic4\", \"Topic5\", \"Topic5\", \"Topic5\", \"Topic5\", \"Topic5\", \"Topic5\", \"Topic5\", \"Topic5\", \"Topic5\", \"Topic5\", \"Topic5\", \"Topic5\", \"Topic5\", \"Topic5\", \"Topic5\", \"Topic5\", \"Topic5\", \"Topic5\", \"Topic5\", \"Topic5\", \"Topic5\", \"Topic5\", \"Topic5\", \"Topic5\", \"Topic5\", \"Topic5\", \"Topic5\", \"Topic5\", \"Topic5\", \"Topic5\", \"Topic5\", \"Topic6\", \"Topic6\", \"Topic6\", \"Topic6\", \"Topic6\", \"Topic6\", \"Topic6\", \"Topic6\", \"Topic6\", \"Topic6\", \"Topic6\", \"Topic6\", \"Topic6\", \"Topic6\", \"Topic6\", \"Topic6\", \"Topic6\", \"Topic6\", \"Topic6\", \"Topic6\", \"Topic6\", \"Topic6\", \"Topic6\", \"Topic6\", \"Topic6\", \"Topic6\", \"Topic6\", \"Topic6\", \"Topic6\", \"Topic6\", \"Topic6\", \"Topic7\", \"Topic7\", \"Topic7\", \"Topic7\", \"Topic7\", \"Topic7\", \"Topic7\", \"Topic7\", \"Topic7\", \"Topic7\", \"Topic7\", \"Topic7\", \"Topic7\", \"Topic7\", \"Topic7\", \"Topic7\", \"Topic7\", \"Topic7\", \"Topic7\", \"Topic7\", \"Topic7\", \"Topic7\", \"Topic7\", \"Topic7\", \"Topic7\", \"Topic7\", \"Topic7\", \"Topic7\", \"Topic7\", \"Topic7\", \"Topic7\", \"Topic8\", \"Topic8\", \"Topic8\", \"Topic8\", \"Topic8\", \"Topic8\", \"Topic8\", \"Topic8\", \"Topic8\", \"Topic8\", \"Topic8\", \"Topic8\", \"Topic8\", \"Topic8\", \"Topic8\", \"Topic8\", \"Topic8\", \"Topic8\", \"Topic8\", \"Topic8\", \"Topic8\", \"Topic8\", \"Topic8\", \"Topic8\", \"Topic8\", \"Topic8\", \"Topic8\", \"Topic8\", \"Topic8\", \"Topic8\", \"Topic8\", \"Topic9\", \"Topic9\", \"Topic9\", \"Topic9\", \"Topic9\", \"Topic9\", \"Topic9\", \"Topic9\", \"Topic9\", \"Topic9\", \"Topic9\", \"Topic9\", \"Topic9\", \"Topic9\", \"Topic9\", \"Topic9\", \"Topic9\", \"Topic9\", \"Topic9\", \"Topic9\", \"Topic9\", \"Topic9\", \"Topic9\", \"Topic9\", \"Topic9\", \"Topic9\", \"Topic9\", \"Topic9\", \"Topic9\", \"Topic9\", \"Topic10\", \"Topic10\", \"Topic10\", \"Topic10\", \"Topic10\", \"Topic10\", \"Topic10\", \"Topic10\", \"Topic10\", \"Topic10\", \"Topic10\", \"Topic10\", \"Topic10\", \"Topic10\", \"Topic10\", \"Topic10\", \"Topic10\", \"Topic10\", \"Topic10\", \"Topic10\", \"Topic10\", \"Topic10\", \"Topic10\", \"Topic10\", \"Topic10\", \"Topic10\", \"Topic10\", \"Topic10\", \"Topic10\", \"Topic10\"], \"Freq\": [6867.0, 6029.0, 3866.0, 9970.0, 4033.0, 3811.0, 9343.0, 2928.0, 8561.0, 8017.0, 3024.0, 2446.0, 7058.0, 2769.0, 6760.0, 2675.0, 1845.0, 1812.0, 2314.0, 1741.0, 5837.0, 2292.0, 2082.0, 2203.0, 2175.0, 1136.0, 5753.0, 1565.0, 1500.0, 2149.0, 9970.0732421875, 9342.49609375, 8560.310546875, 8016.17333984375, 7057.7412109375, 6759.41845703125, 5837.064453125, 4738.1650390625, 4737.75244140625, 4708.31689453125, 4681.09765625, 4364.07177734375, 4259.2568359375, 4127.04638671875, 4068.87646484375, 3994.1904296875, 3949.254638671875, 3868.18212890625, 3784.26611328125, 3547.49658203125, 3433.137939453125, 3267.070068359375, 3200.22314453125, 3179.48486328125, 2840.18994140625, 2798.476806640625, 2708.484130859375, 2631.149658203125, 2505.41845703125, 2442.757568359375, 3864.733642578125, 5718.96435546875, 3143.601318359375, 4395.068359375, 6028.0830078125, 3810.5576171875, 3023.89208984375, 2768.84033203125, 4032.17919921875, 2202.433349609375, 2174.21337890625, 1971.3843994140625, 1829.51123046875, 1331.9957275390625, 1312.3203125, 1247.48095703125, 1194.2491455078125, 1141.7349853515625, 1139.1663818359375, 1077.9207763671875, 1039.0631103515625, 920.3588256835938, 919.3679809570312, 902.4220581054688, 886.7786865234375, 844.998779296875, 843.9580688476562, 841.5932006835938, 821.610595703125, 820.9806518554688, 781.8204345703125, 777.257568359375, 761.1307373046875, 752.0891723632812, 2287.64013671875, 1551.2291259765625, 1300.5565185546875, 2029.73974609375, 1145.07177734375, 2313.330322265625, 2081.745361328125, 1494.563720703125, 1414.6998291015625, 1413.6597900390625, 1352.819580078125, 1338.5567626953125, 1309.484130859375, 1283.622802734375, 1204.21435546875, 1131.3055419921875, 1128.4921875, 1105.7216796875, 1024.4945068359375, 1015.127685546875, 976.1068725585938, 896.86865234375, 871.2979125976562, 860.3598022460938, 848.5279541015625, 874.118408203125, 768.7786865234375, 749.3944702148438, 740.2905883789062, 735.6624755859375, 730.219482421875, 724.2977905273438, 717.2449951171875, 714.8872680664062, 706.667724609375, 1780.3292236328125, 1501.9000244140625, 2593.42431640625, 892.4681396484375, 1420.8892822265625, 808.7724609375, 1127.722900390625, 822.9465942382812, 3865.07177734375, 2927.22216796875, 2445.95849609375, 1696.7056884765625, 1599.579345703125, 1586.74169921875, 1580.74853515625, 1253.500244140625, 1129.0830078125, 1071.6180419921875, 1058.738525390625, 1052.5347900390625, 945.0640869140625, 940.5360717773438, 897.0869750976562, 891.2959594726562, 890.8248291015625, 889.466552734375, 870.7612915039062, 840.7554931640625, 837.2888793945312, 830.983642578125, 748.10205078125, 733.739013671875, 700.3839721679688, 651.9102172851562, 636.677490234375, 627.1112060546875, 581.1892700195312, 578.5720825195312, 1559.758056640625, 703.7626342773438, 781.7576293945312, 718.2601318359375, 1564.6719970703125, 1270.069091796875, 783.7222900390625, 731.5357666015625, 729.3814086914062, 706.96435546875, 676.7881469726562, 642.6189575195312, 602.0223999023438, 579.0469360351562, 574.529296875, 573.0352172851562, 571.7665405273438, 564.19189453125, 507.61883544921875, 504.0192565917969, 613.72607421875, 471.007568359375, 469.8031005859375, 469.5285949707031, 460.7154541015625, 455.2718811035156, 452.08154296875, 434.9573059082031, 432.6384582519531, 411.98040771484375, 409.171875, 409.02142333984375, 397.5169372558594, 385.5894775390625, 805.2810668945312, 1811.4102783203125, 1740.7843017578125, 1499.42333984375, 1278.8629150390625, 1186.1796875, 865.50048828125, 855.25048828125, 850.1289672851562, 807.7510375976562, 729.7315063476562, 712.167236328125, 677.07177734375, 660.7570190429688, 632.4102172851562, 572.4035034179688, 565.9822387695312, 554.370849609375, 553.91796875, 548.3767700195312, 534.2435913085938, 519.6144409179688, 456.13177490234375, 450.1174011230469, 449.7449951171875, 442.43267822265625, 441.0455017089844, 435.8094482421875, 430.3774719238281, 429.8340759277344, 429.81103515625, 1154.0819091796875, 6866.96142578125, 1844.96435546875, 1246.6322021484375, 1178.587890625, 1169.5787353515625, 851.6514892578125, 837.717529296875, 833.0647583007812, 668.3788452148438, 666.3981323242188, 657.799072265625, 636.7008666992188, 622.310791015625, 595.728759765625, 595.1366577148438, 539.6174926757812, 432.3368225097656, 422.6376037597656, 399.64697265625, 386.914306640625, 386.5746154785156, 360.3047180175781, 355.72674560546875, 345.591552734375, 339.8753356933594, 314.1603698730469, 311.3882751464844, 308.7991638183594, 307.83673095703125, 306.658935546875, 316.1363525390625, 1222.722900390625, 727.7931518554688, 696.950927734375, 634.3743286132812, 632.1875, 450.9670104980469, 432.52337646484375, 423.04510498046875, 402.6407165527344, 390.39630126953125, 384.3553771972656, 377.27423095703125, 370.8739013671875, 356.4288024902344, 342.0768127441406, 326.8981628417969, 321.2075500488281, 317.7798767089844, 298.3721923828125, 291.961669921875, 286.176025390625, 286.1414489746094, 272.1278381347656, 266.2600402832031, 265.9254150390625, 256.3169860839844, 252.01278686523438, 248.0676727294922, 247.75039672851562, 246.82896423339844, 426.91400146484375, 1135.2562255859375, 487.39984130859375, 416.0268859863281, 355.9339599609375, 334.1754455566406, 329.2525634765625, 318.29718017578125, 314.5783996582031, 295.962158203125, 289.6210021972656, 286.1302185058594, 282.48919677734375, 257.7320556640625, 257.25347900390625, 234.19923400878906, 227.38778686523438, 212.7358856201172, 209.9225616455078, 208.86611938476562, 202.5410919189453, 197.0260772705078, 193.41177368164062, 190.9352569580078, 185.49742126464844, 184.69276428222656, 180.41726684570312, 177.8126983642578, 177.47633361816406, 174.40380859375, 174.2933349609375, 530.7700805664062, 470.46270751953125, 462.6895446777344, 386.4518737792969, 377.96820068359375, 349.14990234375, 349.1014404296875, 313.5233154296875, 296.54937744140625, 288.6832580566406, 281.7923889160156, 278.8861389160156, 262.462646484375, 224.22772216796875, 191.0505828857422, 175.0175323486328, 174.6808624267578, 173.67796325683594, 170.67031860351562, 168.77261352539062, 167.94937133789062, 167.53758239746094, 167.07020568847656, 160.98619079589844, 156.41036987304688, 155.12054443359375, 155.1029815673828, 144.24093627929688, 139.99005126953125, 139.36354064941406], \"Term\": [\"trump\", \"u\", \"tax\", \"people\", \"state\", \"government\", \"would\", \"money\", \"one\", \"like\", \"country\", \"pay\", \"get\", \"canada\", \"dont\", \"law\", \"president\", \"vote\", \"woman\", \"party\", \"time\", \"world\", \"comment\", \"canadian\", \"liberal\", \"god\", \"year\", \"city\", \"republican\", \"job\", \"people\", \"would\", \"one\", \"like\", \"get\", \"dont\", \"time\", \"need\", \"know\", \"think\", \"make\", \"even\", \"many\", \"way\", \"see\", \"good\", \"go\", \"want\", \"well\", \"much\", \"thing\", \"could\", \"going\", \"take\", \"work\", \"never\", \"back\", \"im\", \"really\", \"life\", \"say\", \"year\", \"also\", \"right\", \"u\", \"government\", \"country\", \"canada\", \"state\", \"canadian\", \"liberal\", \"american\", \"something\", \"already\", \"obama\", \"war\", \"trudeau\", \"federal\", \"america\", \"citizen\", \"court\", \"interest\", \"else\", \"however\", \"leader\", \"military\", \"rule\", \"nation\", \"oh\", \"economy\", \"order\", \"china\", \"national\", \"social\", \"world\", \"support\", \"power\", \"job\", \"yet\", \"woman\", \"comment\", \"find\", \"post\", \"white\", \"must\", \"word\", \"others\", \"agree\", \"church\", \"tell\", \"old\", \"true\", \"opinion\", \"black\", \"understand\", \"men\", \"called\", \"past\", \"side\", \"claim\", \"decision\", \"illegal\", \"answer\", \"criminal\", \"legal\", \"statement\", \"racist\", \"truth\", \"catholic\", \"believe\", \"man\", \"law\", \"based\", \"read\", \"cannot\", \"enough\", \"simply\", \"tax\", \"money\", \"pay\", \"care\", \"business\", \"cost\", \"million\", \"company\", \"service\", \"price\", \"health\", \"kid\", \"rate\", \"market\", \"car\", \"increase\", \"income\", \"dollar\", \"billion\", \"benefit\", \"cut\", \"paid\", \"per\", \"private\", \"paying\", \"buy\", \"death\", \"property\", \"single\", \"budget\", \"system\", \"poor\", \"high\", \"bill\", \"city\", \"oil\", \"area\", \"industry\", \"thank\", \"ive\", \"trade\", \"water\", \"employee\", \"bc\", \"project\", \"taxpayer\", \"road\", \"gas\", \"economic\", \"absolutely\", \"food\", \"hour\", \"south\", \"energy\", \"together\", \"effect\", \"rail\", \"climate\", \"corporate\", \"officer\", \"eye\", \"hundred\", \"air\", \"priest\", \"using\", \"vote\", \"party\", \"republican\", \"election\", \"conservative\", \"member\", \"voter\", \"democrat\", \"attack\", \"office\", \"population\", \"majority\", \"muslim\", \"civil\", \"voted\", \"united\", \"christian\", \"terrorist\", \"race\", \"hear\", \"board\", \"democratic\", \"none\", \"candidate\", \"practice\", \"voting\", \"response\", \"disagree\", \"study\", \"supporter\", \"political\", \"trump\", \"president\", \"news\", \"clinton\", \"medium\", \"lie\", \"hillary\", \"russian\", \"campaign\", \"evidence\", \"information\", \"source\", \"donald\", \"fake\", \"report\", \"wait\", \"wish\", \"knew\", \"lose\", \"ndp\", \"seriously\", \"behavior\", \"player\", \"couldnt\", \"written\", \"recent\", \"mental\", \"bet\", \"address\", \"racism\", \"meeting\", \"alaska\", \"fund\", \"control\", \"hawaii\", \"coming\", \"alaskan\", \"sex\", \"funny\", \"native\", \"happy\", \"senate\", \"abortion\", \"room\", \"waste\", \"legislature\", \"deep\", \"space\", \"governor\", \"sentence\", \"willing\", \"island\", \"seat\", \"promise\", \"broken\", \"everybody\", \"district\", \"prove\", \"data\", \"sick\", \"senator\", \"john\", \"god\", \"common\", \"sexual\", \"break\", \"global\", \"ignore\", \"gave\", \"heart\", \"language\", \"limit\", \"mother\", \"stock\", \"wife\", \"decided\", \"sent\", \"bear\", \"tough\", \"logic\", \"became\", \"column\", \"healthy\", \"size\", \"reference\", \"nature\", \"particularly\", \"affordable\", \"tired\", \"bike\", \"recall\", \"youd\", \"immigration\", \"wage\", \"worker\", \"sale\", \"demand\", \"wanted\", \"percent\", \"park\", \"healthcare\", \"province\", \"western\", \"driver\", \"israel\", \"german\", \"flight\", \"camp\", \"statue\", \"truck\", \"advocate\", \"blood\", \"dividend\", \"hawaiian\", \"mile\", \"art\", \"proper\", \"sitting\", \"permanent\", \"director\", \"leftist\", \"fewer\"], \"Total\": [6867.0, 6029.0, 3866.0, 9970.0, 4033.0, 3811.0, 9343.0, 2928.0, 8561.0, 8017.0, 3024.0, 2446.0, 7058.0, 2769.0, 6760.0, 2675.0, 1845.0, 1812.0, 2314.0, 1741.0, 5837.0, 2292.0, 2082.0, 2203.0, 2175.0, 1136.0, 5753.0, 1565.0, 1500.0, 2149.0, 9970.9970703125, 9343.41796875, 8561.232421875, 8017.09326171875, 7058.6611328125, 6760.33837890625, 5837.984375, 4739.0849609375, 4738.67236328125, 4709.23681640625, 4682.017578125, 4364.99169921875, 4260.19970703125, 4127.96630859375, 4069.796875, 3995.11083984375, 3950.175048828125, 3869.1025390625, 3785.1865234375, 3548.4169921875, 3434.058349609375, 3267.990478515625, 3201.1435546875, 3180.4052734375, 2841.1103515625, 2799.397216796875, 2709.404541015625, 2632.070068359375, 2506.3388671875, 2443.677978515625, 3871.6015625, 5753.88427734375, 3162.02490234375, 4665.271484375, 6029.0068359375, 3811.481689453125, 3024.816162109375, 2769.764404296875, 4033.672119140625, 2203.357421875, 2175.137451171875, 1972.308349609375, 1830.4351806640625, 1332.919677734375, 1313.2442626953125, 1248.4049072265625, 1195.173095703125, 1142.658935546875, 1140.09033203125, 1078.8447265625, 1039.987060546875, 921.2827758789062, 920.2919921875, 903.3460693359375, 887.7026977539062, 845.9227905273438, 844.882080078125, 842.5171508789062, 822.5346069335938, 821.9046020507812, 782.7444458007812, 778.1815185546875, 762.0547485351562, 753.01318359375, 2292.72705078125, 1564.8521728515625, 1309.3560791015625, 2149.76611328125, 1228.878173828125, 2314.25439453125, 2082.66943359375, 1495.4879150390625, 1415.6240234375, 1414.583984375, 1353.7437744140625, 1339.48095703125, 1310.4083251953125, 1284.5469970703125, 1205.138427734375, 1132.229736328125, 1129.4163818359375, 1106.6458740234375, 1025.418701171875, 1016.0518798828125, 977.0310668945312, 897.7927856445312, 872.2221069335938, 861.2839965820312, 849.4521484375, 875.1056518554688, 769.702880859375, 750.3186645507812, 741.2147827148438, 736.586669921875, 731.1436767578125, 725.2220458984375, 718.169189453125, 715.8114013671875, 707.591796875, 1792.4190673828125, 1510.2822265625, 2675.406982421875, 900.8582153320312, 1474.6019287109375, 844.0739135742188, 1371.8028564453125, 947.6151733398438, 3866.000732421875, 2928.151123046875, 2446.887451171875, 1697.6346435546875, 1600.50830078125, 1587.670654296875, 1581.677490234375, 1254.42919921875, 1130.011962890625, 1072.5469970703125, 1059.6673583984375, 1053.4637451171875, 945.9929809570312, 941.4649658203125, 898.015869140625, 892.224853515625, 891.7537231445312, 890.3954467773438, 871.690185546875, 841.6843872070312, 838.2177734375, 831.9125366210938, 749.0309448242188, 734.6679077148438, 701.3128662109375, 652.839111328125, 637.6065063476562, 628.0401000976562, 582.1182861328125, 579.5009765625, 1586.4241943359375, 719.9392700195312, 1144.6082763671875, 994.5191650390625, 1565.5985107421875, 1270.9954833984375, 784.6978759765625, 732.4623413085938, 730.3080444335938, 707.8909912109375, 677.71484375, 643.5454711914062, 602.9489135742188, 579.9735717773438, 575.455810546875, 573.9617919921875, 572.6930541992188, 565.118408203125, 508.54541015625, 504.9458923339844, 614.9071044921875, 471.9341735839844, 470.7297058105469, 470.4552001953125, 461.64208984375, 456.198486328125, 453.008056640625, 435.8838806152344, 433.5650939941406, 412.90704345703125, 410.0985107421875, 409.94805908203125, 398.44354248046875, 386.51611328125, 832.7109375, 1812.337158203125, 1741.711181640625, 1500.3502197265625, 1279.7899169921875, 1187.106689453125, 866.427490234375, 856.177490234375, 851.055908203125, 808.6780395507812, 730.65869140625, 713.09423828125, 677.998779296875, 661.6839599609375, 633.337158203125, 573.3304443359375, 566.9092407226562, 555.2977905273438, 554.844970703125, 549.3037719726562, 535.1705932617188, 520.5414428710938, 457.05877685546875, 451.0444641113281, 450.67193603515625, 443.3597106933594, 441.97247314453125, 436.7364807128906, 431.30450439453125, 430.7611083984375, 430.738037109375, 1170.8970947265625, 6867.8916015625, 1845.8951416015625, 1247.56298828125, 1179.5186767578125, 1170.5096435546875, 852.5823974609375, 838.6483764648438, 833.9956665039062, 669.3097534179688, 667.3290405273438, 658.72998046875, 637.6317749023438, 623.24169921875, 596.6596069335938, 596.067626953125, 540.5484619140625, 433.2677307128906, 423.56854248046875, 400.5779113769531, 387.8453063964844, 387.50555419921875, 361.2356262207031, 356.6576843261719, 346.5224609375, 340.8063049316406, 315.09130859375, 312.3192138671875, 309.7301025390625, 308.7677307128906, 307.5898742675781, 328.6979675292969, 1223.651611328125, 728.7218627929688, 697.8796997070312, 635.3030395507812, 633.1162719726562, 451.89569091796875, 433.4521789550781, 423.973876953125, 403.5694580078125, 391.3250732421875, 385.2841491699219, 378.2030029296875, 371.8026428222656, 357.3575744628906, 343.0055236816406, 327.8269958496094, 322.1363220214844, 318.7085876464844, 299.30096435546875, 292.89044189453125, 287.104736328125, 287.0701599121094, 273.0565185546875, 267.1888122558594, 266.8542175292969, 257.2456970214844, 252.94154357910156, 248.99642944335938, 248.6791534423828, 247.75765991210938, 441.29931640625, 1136.193359375, 488.33697509765625, 416.9639587402344, 356.87109375, 335.112548828125, 330.1897277832031, 319.2342834472656, 315.5155029296875, 296.8992614746094, 290.55810546875, 287.0672912597656, 283.42626953125, 258.6691589355469, 258.19061279296875, 235.1364288330078, 228.32481384277344, 213.6730499267578, 210.8596649169922, 209.8032989501953, 203.4782257080078, 197.9632110595703, 194.3489227294922, 191.87237548828125, 186.43446350097656, 185.6299591064453, 181.35440063476562, 178.7498016357422, 178.41339111328125, 175.3409423828125, 175.23052978515625, 531.710205078125, 471.40283203125, 463.629638671875, 387.3919677734375, 378.9084167480469, 350.0900573730469, 350.04156494140625, 314.46343994140625, 297.4895324707031, 289.6233825683594, 282.7325744628906, 279.8262023925781, 263.40277099609375, 225.1678924560547, 191.99075317382812, 175.95765686035156, 175.62098693847656, 174.61807250976562, 171.6105194091797, 169.7127227783203, 168.8894805908203, 168.47779846191406, 168.01034545898438, 161.92636108398438, 157.35055541992188, 156.0607147216797, 156.0430908203125, 145.18113708496094, 140.9302520751953, 140.30372619628906], \"loglift\": [30.0, 29.0, 28.0, 27.0, 26.0, 25.0, 24.0, 23.0, 22.0, 21.0, 20.0, 19.0, 18.0, 17.0, 16.0, 15.0, 14.0, 13.0, 12.0, 11.0, 10.0, 9.0, 8.0, 7.0, 6.0, 5.0, 4.0, 3.0, 2.0, 1.0, 0.8478999733924866, 0.8478999733924866, 0.8478000164031982, 0.8478000164031982, 0.8478000164031982, 0.8478000164031982, 0.8478000164031982, 0.8478000164031982, 0.8478000164031982, 0.8478000164031982, 0.8478000164031982, 0.8476999998092651, 0.8476999998092651, 0.8476999998092651, 0.8476999998092651, 0.8476999998092651, 0.8476999998092651, 0.8476999998092651, 0.8476999998092651, 0.8476999998092651, 0.8476999998092651, 0.8476999998092651, 0.8476999998092651, 0.8476999998092651, 0.847599983215332, 0.847599983215332, 0.847599983215332, 0.847599983215332, 0.847599983215332, 0.847599983215332, 0.8461999893188477, 0.8418999910354614, 0.8421000242233276, 0.7882999777793884, 2.080399990081787, 2.0803000926971436, 2.0803000926971436, 2.0803000926971436, 2.080199956893921, 2.080199956893921, 2.080199956893921, 2.0801000595092773, 2.0801000595092773, 2.079900026321411, 2.079900026321411, 2.0797998905181885, 2.0797998905181885, 2.0797998905181885, 2.0797998905181885, 2.079699993133545, 2.079699993133545, 2.0796000957489014, 2.0796000957489014, 2.0796000957489014, 2.0794999599456787, 2.0794999599456787, 2.0794999599456787, 2.0794999599456787, 2.0794999599456787, 2.0794999599456787, 2.079400062561035, 2.079400062561035, 2.079400062561035, 2.079400062561035, 2.078399896621704, 2.0717999935150146, 2.0738000869750977, 2.023099899291992, 2.009999990463257, 2.2035000324249268, 2.2035000324249268, 2.2032999992370605, 2.203200101852417, 2.203200101852417, 2.203200101852417, 2.203200101852417, 2.203200101852417, 2.203200101852417, 2.2030999660491943, 2.2030999660491943, 2.2030999660491943, 2.2030999660491943, 2.203000068664551, 2.203000068664551, 2.203000068664551, 2.202899932861328, 2.2028000354766846, 2.2028000354766846, 2.2028000354766846, 2.2028000354766846, 2.202699899673462, 2.202699899673462, 2.2026000022888184, 2.2026000022888184, 2.2026000022888184, 2.2026000022888184, 2.2026000022888184, 2.2026000022888184, 2.2026000022888184, 2.1970999240875244, 2.1982998847961426, 2.172800064086914, 2.194499969482422, 2.166800022125244, 2.1612000465393066, 2.007999897003174, 2.0627999305725098, 2.486599922180176, 2.486599922180176, 2.4865000247955322, 2.486299991607666, 2.486299991607666, 2.486299991607666, 2.486299991607666, 2.4860999584198, 2.4860999584198, 2.4860000610351562, 2.4860000610351562, 2.4860000610351562, 2.4858999252319336, 2.4858999252319336, 2.48580002784729, 2.48580002784729, 2.48580002784729, 2.48580002784729, 2.48580002784729, 2.48580002784729, 2.48580002784729, 2.48580002784729, 2.485599994659424, 2.485599994659424, 2.485599994659424, 2.4855000972747803, 2.4853999614715576, 2.4853999614715576, 2.485300064086914, 2.485300064086914, 2.469899892807007, 2.464200019836426, 2.105600118637085, 2.1614999771118164, 2.7734999656677246, 2.7732999324798584, 2.7727999687194824, 2.7727999687194824, 2.7727999687194824, 2.772700071334839, 2.772700071334839, 2.772599935531616, 2.7725000381469727, 2.77239990234375, 2.77239990234375, 2.77239990234375, 2.77239990234375, 2.77239990234375, 2.772200107574463, 2.772200107574463, 2.7720999717712402, 2.7720999717712402, 2.7720999717712402, 2.7720999717712402, 2.7720000743865967, 2.7720000743865967, 2.7720000743865967, 2.771899938583374, 2.771899938583374, 2.7718000411987305, 2.7718000411987305, 2.7718000411987305, 2.771699905395508, 2.7716000080108643, 2.740600109100342, 2.828399896621704, 2.828399896621704, 2.8282999992370605, 2.828200101852417, 2.8280999660491943, 2.8278000354766846, 2.8278000354766846, 2.8278000354766846, 2.827699899673462, 2.8276000022888184, 2.8276000022888184, 2.827500104904175, 2.827500104904175, 2.827399969100952, 2.8273000717163086, 2.8273000717163086, 2.827199935913086, 2.827199935913086, 2.827199935913086, 2.827199935913086, 2.8271000385284424, 2.826900005340576, 2.8268001079559326, 2.8268001079559326, 2.8268001079559326, 2.8268001079559326, 2.8268001079559326, 2.82669997215271, 2.82669997215271, 2.82669997215271, 2.8143999576568604, 2.966099977493286, 2.9658000469207764, 2.9655001163482666, 2.9655001163482666, 2.9655001163482666, 2.9651999473571777, 2.9651999473571777, 2.965100049972534, 2.964900016784668, 2.964900016784668, 2.964900016784668, 2.9647998809814453, 2.9647998809814453, 2.9646999835968018, 2.9646999835968018, 2.9644999504089355, 2.964099884033203, 2.964099884033203, 2.963900089263916, 2.963900089263916, 2.963900089263916, 2.96370005607605, 2.96370005607605, 2.963599920272827, 2.9635000228881836, 2.9632999897003174, 2.9632999897003174, 2.9632999897003174, 2.963200092315674, 2.963200092315674, 2.927299976348877, 3.242300033569336, 3.24180006980896, 3.2416999340057373, 3.2416000366210938, 3.2416000366210938, 3.240999937057495, 3.2409000396728516, 3.2409000396728516, 3.2407000064849854, 3.2407000064849854, 3.240600109100342, 3.240600109100342, 3.240499973297119, 3.2404000759124756, 3.240299940109253, 3.2402000427246094, 3.2402000427246094, 3.2400999069213867, 3.2399001121520996, 3.2399001121520996, 3.239799976348877, 3.239799976348877, 3.2395999431610107, 3.2395999431610107, 3.2395999431610107, 3.2393999099731445, 3.2393999099731445, 3.239300012588501, 3.239300012588501, 3.239300012588501, 3.20989990234375, 3.822700023651123, 3.8215999603271484, 3.8213000297546387, 3.8208999633789062, 3.82069993019104, 3.82069993019104, 3.8206000328063965, 3.8206000328063965, 3.8203999996185303, 3.8203001022338867, 3.8203001022338867, 3.820199966430664, 3.8199000358581543, 3.8199000358581543, 3.8196001052856445, 3.8194000720977783, 3.819200038909912, 3.8190999031066895, 3.8190999031066895, 3.8189001083374023, 3.8187999725341797, 3.818700075149536, 3.8185999393463135, 3.81850004196167, 3.81850004196167, 3.8183999061584473, 3.8183000087738037, 3.8183000087738037, 3.81820011138916, 3.81820011138916, 3.938999891281128, 3.938800096511841, 3.938699960708618, 3.9382998943328857, 3.9382998943328857, 3.9381000995635986, 3.9381000995635986, 3.9377999305725098, 3.9375998973846436, 3.9375, 3.9374001026153564, 3.9374001026153564, 3.9372000694274902, 3.9365999698638916, 3.935800075531006, 3.9354000091552734, 3.9354000091552734, 3.93530011177063, 3.93530011177063, 3.9351999759674072, 3.9351999759674072, 3.9351999759674072, 3.9351000785827637, 3.9349000453948975, 3.934799909591675, 3.9347000122070312, 3.9347000122070312, 3.934299945831299, 3.9340999126434326, 3.934000015258789], \"logprob\": [30.0, 29.0, 28.0, 27.0, 26.0, 25.0, 24.0, 23.0, 22.0, 21.0, 20.0, 19.0, 18.0, 17.0, 16.0, 15.0, 14.0, 13.0, 12.0, 11.0, 10.0, 9.0, 8.0, 7.0, 6.0, 5.0, 4.0, 3.0, 2.0, 1.0, -4.048900127410889, -4.113900184631348, -4.201399803161621, -4.267099857330322, -4.394400119781494, -4.437600135803223, -4.5843000411987305, -4.792900085449219, -4.793000221252441, -4.799200057983398, -4.804999828338623, -4.875100135803223, -4.899400234222412, -4.931000232696533, -4.945199966430664, -4.963699817657471, -4.974999904632568, -4.995699882507324, -5.0177001953125, -5.082300186157227, -5.114999771118164, -5.164599895477295, -5.185299873352051, -5.191800117492676, -5.304599761962891, -5.319399833679199, -5.352099895477295, -5.381100177764893, -5.430099964141846, -5.455399990081787, -4.996600151062012, -4.604700088500977, -5.203100204467773, -4.868000030517578, -3.319499969482422, -3.77810001373291, -4.009300231933594, -4.097499847412109, -3.72160005569458, -4.326300144195557, -4.339200019836426, -4.437099933624268, -4.5117998123168945, -4.82919979095459, -4.844099998474121, -4.894800186157227, -4.938399791717529, -4.98330020904541, -4.985599994659424, -5.040900230407715, -5.077600002288818, -5.19890022277832, -5.199999809265137, -5.218599796295166, -5.236000061035156, -5.284299850463867, -5.2855000495910645, -5.288300037384033, -5.312399864196777, -5.3130998611450195, -5.361999988555908, -5.3678998947143555, -5.388800144195557, -5.4008002281188965, -4.288400173187256, -4.676799774169922, -4.853099822998047, -4.4079999923706055, -4.980400085449219, -4.153900146484375, -4.259399890899658, -4.590700149536133, -4.645699977874756, -4.646399974822998, -4.690400123596191, -4.701000213623047, -4.722899913787842, -4.7428998947143555, -4.806700229644775, -4.869200229644775, -4.871699810028076, -4.892099857330322, -4.968400001525879, -4.97760009765625, -5.0167999267578125, -5.101399898529053, -5.130300045013428, -5.14300012588501, -5.156799793243408, -5.127099990844727, -5.255499839782715, -5.281099796295166, -5.293300151824951, -5.299600124359131, -5.307000160217285, -5.315100193023682, -5.324900150299072, -5.328199863433838, -5.339799880981445, -4.415800094604492, -4.5858001708984375, -4.039599895477295, -5.106299877166748, -4.641300201416016, -5.204800128936768, -4.872399806976318, -5.187399864196777, -3.357599973678589, -3.635499954223633, -3.815200090408325, -4.1809000968933105, -4.2399001121521, -4.247900009155273, -4.251699924468994, -4.483699798583984, -4.588200092315674, -4.640399932861328, -4.652500152587891, -4.658400058746338, -4.76609992980957, -4.770899772644043, -4.81820011138916, -4.824699878692627, -4.825200080871582, -4.826700210571289, -4.8480000495910645, -4.882999897003174, -4.887199878692627, -4.894700050354004, -4.999800205230713, -5.019199848175049, -5.065700054168701, -5.137400150299072, -5.161099910736084, -5.176199913024902, -5.252299785614014, -5.256800174713135, -4.265100002288818, -5.0609002113342285, -4.9558000564575195, -5.040500164031982, -3.9746999740600586, -4.1834001541137695, -4.666100025177002, -4.735000133514404, -4.73799991607666, -4.769199848175049, -4.81279993057251, -4.86460018157959, -4.929900169372559, -4.968800067901611, -4.976600170135498, -4.9791998863220215, -4.981500148773193, -4.994800090789795, -5.100500106811523, -5.107600212097168, -4.910600185394287, -5.175300121307373, -5.1778998374938965, -5.178500175476074, -5.197400093078613, -5.2093000411987305, -5.216300010681152, -5.254899978637695, -5.260300159454346, -5.309199810028076, -5.315999984741211, -5.316400051116943, -5.344900131225586, -5.375400066375732, -4.638999938964844, -3.7734999656677246, -3.813199996948242, -3.9625000953674316, -4.121600151062012, -4.196800231933594, -4.51200008392334, -4.523900032043457, -4.53000020980835, -4.581099987030029, -4.682700157165527, -4.706999778747559, -4.757599830627441, -4.7820000648498535, -4.825799942016602, -4.92549991607666, -4.936800003051758, -4.957499980926514, -4.9583001136779785, -4.968400001525879, -4.994500160217285, -5.022299766540527, -5.152599811553955, -5.165800094604492, -5.1666998863220215, -5.18310022354126, -5.186200141906738, -5.1981000900268555, -5.210700035095215, -5.211900234222412, -5.211999893188477, -4.224299907684326, -2.303499937057495, -3.6177000999450684, -4.009799957275391, -4.065899848937988, -4.073599815368652, -4.3907999992370605, -4.407299995422363, -4.412899971008301, -4.6331000328063965, -4.636099815368652, -4.649099826812744, -4.681700229644775, -4.704500198364258, -4.748199939727783, -4.749199867248535, -4.847099781036377, -5.06879997253418, -5.091400146484375, -5.14739990234375, -5.179800033569336, -5.180600166320801, -5.250999927520752, -5.263800144195557, -5.292699813842773, -5.3094000816345215, -5.3881001472473145, -5.396900177001953, -5.405300140380859, -5.408400058746338, -5.412199974060059, -5.381800174713135, -3.7523000240325928, -4.271200180053711, -4.314499855041504, -4.4085001945495605, -4.4120001792907715, -4.749800205230713, -4.791500091552734, -4.813700199127197, -4.863100051879883, -4.894000053405762, -4.909599781036377, -4.928199768066406, -4.945300102233887, -4.985000133514404, -5.026100158691406, -5.071499824523926, -5.089099884033203, -5.099800109863281, -5.162799835205078, -5.184599876403809, -5.204599857330322, -5.204699993133545, -5.254899978637695, -5.276700019836426, -5.2779998779296875, -5.314799785614014, -5.331699848175049, -5.347499847412109, -5.348800182342529, -5.352499961853027, -4.804599761962891, -3.2460999488830566, -4.091599941253662, -4.249899864196777, -4.405900001525879, -4.468999862670898, -4.48390007019043, -4.5177001953125, -4.529399871826172, -4.5904998779296875, -4.612100124359131, -4.624199867248535, -4.63700008392334, -4.728799819946289, -4.730599880218506, -4.82450008392334, -4.854000091552734, -4.920599937438965, -4.933899879455566, -4.939000129699707, -4.969699859619141, -4.997300148010254, -5.015900135040283, -5.02869987487793, -5.057600021362305, -5.061999797821045, -5.085400104522705, -5.099999904632568, -5.101799964904785, -5.11929988861084, -5.119900226593018, -3.88919997215271, -4.009799957275391, -4.026400089263916, -4.206500053405762, -4.228700160980225, -4.308000087738037, -4.30810022354126, -4.415599822998047, -4.47130012512207, -4.498199939727783, -4.522299766540527, -4.532700061798096, -4.593400001525879, -4.750800132751465, -4.910900115966797, -4.998600006103516, -5.000500202178955, -5.00629997253418, -5.02370023727417, -5.034900188446045, -5.03980016708374, -5.042300224304199, -5.045100212097168, -5.082200050354004, -5.111000061035156, -5.11929988861084, -5.1194000244140625, -5.191999912261963, -5.22189998626709, -5.226399898529053]}, \"token.table\": {\"Topic\": [8, 5, 7, 10, 9, 3, 5, 8, 8, 2, 1, 2, 3, 2, 2, 3, 5, 10, 6, 1, 2, 3, 5, 9, 9, 7, 1, 3, 4, 7, 9, 1, 4, 6, 4, 3, 10, 6, 9, 8, 4, 4, 4, 3, 10, 7, 2, 2, 6, 2, 3, 4, 4, 3, 2, 6, 3, 2, 5, 6, 3, 5, 7, 9, 8, 3, 9, 4, 6, 8, 5, 4, 1, 7, 2, 2, 3, 4, 8, 4, 9, 3, 8, 10, 6, 6, 10, 6, 8, 10, 4, 7, 1, 10, 5, 2, 5, 6, 2, 5, 5, 3, 4, 1, 8, 7, 5, 7, 2, 10, 3, 10, 5, 8, 8, 5, 9, 10, 1, 9, 1, 9, 1, 1, 2, 8, 8, 8, 10, 4, 10, 9, 6, 9, 1, 2, 4, 7, 5, 2, 5, 9, 3, 1, 10, 4, 4, 5, 7, 2, 8, 10, 5, 1, 2, 2, 8, 4, 7, 1, 9, 2, 3, 2, 10, 3, 8, 2, 7, 1, 1, 9, 9, 7, 6, 1, 1, 3, 1, 4, 7, 2, 7, 6, 3, 7, 10, 2, 4, 4, 9, 1, 6, 3, 2, 2, 8, 9, 7, 1, 1, 7, 6, 2, 6, 5, 2, 5, 3, 1, 3, 2, 3, 4, 10, 9, 6, 3, 4, 4, 1, 4, 10, 10, 7, 2, 6, 2, 4, 6, 3, 1, 2, 5, 6, 7, 4, 5, 4, 5, 8, 10, 4, 8, 10, 6, 7, 3, 5, 4, 1, 3, 1, 9, 7, 9, 7, 6, 6, 1, 3, 5, 8, 2, 7, 10, 1, 3, 8, 1, 8, 8, 9, 8, 7, 4, 8, 9, 8, 3, 2, 3, 4, 10, 9, 2, 2, 7, 5, 8, 2, 8, 3, 10, 9, 6, 2, 6, 6, 1, 2, 4, 1, 4, 5, 3, 6, 5, 1, 1, 1, 9, 5, 9, 5, 10, 2, 3, 7, 3, 2, 3, 6, 2, 5, 6, 6, 6, 6, 10, 7, 1, 10, 2, 8, 5, 1, 1, 10, 3, 9, 8, 7, 3, 3, 1, 10, 1, 2, 1, 7, 1, 4, 2, 3, 9], \"Freq\": [0.9968191385269165, 0.998126745223999, 0.9975135922431946, 0.996442437171936, 0.9925317168235779, 0.9995741844177246, 0.9988868236541748, 0.9994674921035767, 0.9980179071426392, 0.9993100166320801, 0.994299590587616, 0.000948759145103395, 0.004743795841932297, 0.9990436434745789, 0.9993366599082947, 0.9983611106872559, 0.9991106390953064, 0.994279146194458, 0.9991615414619446, 0.9994816184043884, 0.008880420587956905, 0.9901669025421143, 0.9983213543891907, 0.99419766664505, 0.9961711764335632, 0.9965794682502747, 0.006136957556009293, 0.9930713176727295, 0.9991868734359741, 0.9976427555084229, 0.9920780062675476, 0.21517936885356903, 0.7219569087028503, 0.061336174607276917, 0.9992082118988037, 0.9989647269248962, 0.9958004355430603, 0.9989598393440247, 0.9975590705871582, 0.9955506920814514, 0.9991354942321777, 0.9996824264526367, 0.9987146854400635, 0.9985988736152649, 0.9945574402809143, 0.9980431199073792, 0.9997240304946899, 0.9993839263916016, 0.9985090494155884, 0.04028083384037018, 0.9584468603134155, 0.9988687634468079, 0.9996261596679688, 0.9991636276245117, 0.9984816908836365, 0.9976629018783569, 0.9990553259849548, 0.9992170333862305, 0.9996176958084106, 0.9978886842727661, 0.998736560344696, 0.9979721903800964, 0.9995602369308472, 0.9976497292518616, 0.9982368350028992, 0.9996785521507263, 0.997262179851532, 0.9996578693389893, 0.9990677237510681, 0.99873948097229, 0.9986966252326965, 0.9995775818824768, 0.9996969103813171, 0.9984923005104065, 0.9997301697731018, 0.9990509152412415, 0.9992035031318665, 0.9985471963882446, 0.995998203754425, 0.9990487694740295, 0.9953886270523071, 0.9990867972373962, 0.9974773526191711, 0.9976025223731995, 0.9987592697143555, 0.9976835250854492, 0.9918643832206726, 0.9969754219055176, 0.9951575398445129, 0.9947333335876465, 0.9984327554702759, 0.9980076551437378, 0.9998020529747009, 0.9970474243164062, 0.9989275336265564, 0.9988994002342224, 0.9973728656768799, 0.9993827939033508, 0.9985961318016052, 0.9984261989593506, 0.9990324378013611, 0.8222755789756775, 0.17713916301727295, 0.9997727870941162, 0.9967989325523376, 0.9980084300041199, 0.997321367263794, 0.9988945126533508, 0.9994233250617981, 0.9907078146934509, 0.9996737241744995, 0.9948395490646362, 0.9985247850418091, 0.9990094304084778, 0.997702956199646, 0.9980209469795227, 0.9961336255073547, 0.9948132634162903, 0.9999063611030579, 0.9966800808906555, 0.999702513217926, 0.9989497065544128, 0.9996427893638611, 0.9997219443321228, 0.9998736381530762, 0.9977766871452332, 0.9966138601303101, 0.997948944568634, 0.9971640110015869, 0.9993702173233032, 0.998354434967041, 0.9951344132423401, 0.9978126883506775, 0.9983661770820618, 0.3127707540988922, 0.003494645468890667, 0.6832031607627869, 0.9992268681526184, 0.9980205297470093, 0.9985098838806152, 0.9976873397827148, 0.9963968396186829, 0.9982425570487976, 0.9995934367179871, 0.9986643195152283, 0.999154806137085, 0.9986271858215332, 0.9993687868118286, 0.9988918304443359, 0.9986076354980469, 0.9961521625518799, 0.9946744441986084, 0.9987413287162781, 0.05535485967993736, 0.9442887902259827, 0.03172450140118599, 0.967597246170044, 0.9995598196983337, 0.9986577033996582, 0.9998581409454346, 0.9969711303710938, 0.030275767669081688, 0.9691983461380005, 0.999208390712738, 0.9933992028236389, 0.9984357953071594, 0.997068464756012, 0.9994770884513855, 0.999316930770874, 0.9997225403785706, 0.9998636245727539, 0.9980791807174683, 0.9959230422973633, 0.9985573291778564, 0.9985268712043762, 0.9997826814651489, 0.0052970233373343945, 0.994516134262085, 0.9997183680534363, 0.9995061159133911, 0.9995645880699158, 0.036507681012153625, 0.9613689184188843, 0.9995065927505493, 0.9991169571876526, 0.9957760572433472, 0.9939864277839661, 0.9989091157913208, 0.999571681022644, 0.9996068477630615, 0.9962821006774902, 0.9996006488800049, 0.9989663362503052, 0.9994505643844604, 0.999386191368103, 0.9986159205436707, 0.9985889196395874, 0.9923058152198792, 0.9978204965591431, 0.9997710585594177, 0.9995008707046509, 0.9995487332344055, 0.9976843595504761, 0.9990525245666504, 0.9990984797477722, 0.997803270816803, 0.9993500709533691, 0.9992167949676514, 0.9987459182739258, 0.9998560547828674, 0.9986164569854736, 0.9990489482879639, 0.9989252686500549, 0.9989030957221985, 0.9985262751579285, 0.9966063499450684, 0.9995916485786438, 0.9985092282295227, 0.9996373057365417, 0.9981279969215393, 0.9998999834060669, 0.9986236095428467, 0.9970244765281677, 0.9933153390884399, 0.998155951499939, 0.013664736412465572, 0.9855691194534302, 0.020835090428590775, 0.9778602719306946, 0.9984654784202576, 0.9995591640472412, 0.0022912025451660156, 0.9936181902885437, 0.0038186709862202406, 0.9969331622123718, 0.9995150566101074, 0.9994900226593018, 0.9986646771430969, 0.999090850353241, 0.9992079138755798, 0.9961307644844055, 0.991416871547699, 0.9983438849449158, 0.9962776303291321, 0.9978476166725159, 0.9976264834403992, 0.9980822801589966, 0.998371958732605, 0.9977747201919556, 0.9989503026008606, 0.03594190254807472, 0.9636499285697937, 0.999465823173523, 0.9923523664474487, 0.9965365529060364, 0.9954533576965332, 0.9982088804244995, 0.9991000890731812, 0.9983136653900146, 0.9420673847198486, 0.057660095393657684, 0.9987898468971252, 0.9978412389755249, 0.9989559650421143, 0.9988061785697937, 0.9964067935943604, 0.9982948899269104, 0.0015497462591156363, 0.9962721467018127, 0.9998041987419128, 0.9966670274734497, 0.9969419240951538, 0.9951669573783875, 0.9956533312797546, 0.9986953735351562, 0.9991044402122498, 0.9989567995071411, 0.9976881742477417, 0.9972689747810364, 0.9994677305221558, 0.1308548003435135, 0.8684960007667542, 0.9980789422988892, 0.9932031631469727, 0.9930592775344849, 0.9986544847488403, 0.999762237071991, 0.9990091919898987, 0.9984498620033264, 0.9964725375175476, 0.9995854496955872, 0.0002479130635038018, 0.9983149170875549, 0.9964640736579895, 0.9949677586555481, 0.9982330799102783, 0.9911479353904724, 0.008307494223117828, 0.9982866048812866, 0.00504278764128685, 0.011346272192895412, 0.9833435416221619, 0.99955815076828, 0.9997411370277405, 0.9983242750167847, 0.9989138841629028, 0.9984771013259888, 0.9982089400291443, 0.9996917843818665, 0.9997373819351196, 0.9998313784599304, 0.9958053231239319, 0.9986091256141663, 0.9968500733375549, 0.9989452362060547, 0.9964604377746582, 0.9990184903144836, 0.9994163513183594, 0.9998701810836792, 0.9988664388656616, 0.9998329877853394, 0.9989446997642517, 0.9983961582183838, 0.032424215227365494, 0.9667220115661621, 0.9992622137069702, 0.9976794719696045, 0.9986247420310974, 0.9977996945381165, 0.9970241189002991, 0.9989853501319885, 0.9997150301933289, 0.9968863725662231, 0.9988746643066406, 0.9962010979652405, 0.999152421951294, 0.999765932559967, 0.9996865391731262, 0.997408926486969, 0.9995871782302856, 0.9974130988121033, 0.9969598054885864, 0.9970740079879761, 0.9994579553604126, 0.999640941619873, 0.9996091723442078, 0.9986419081687927, 0.0017446472775191069, 0.9979382157325745, 0.9998482465744019, 0.9976341128349304, 0.9939372539520264, 0.00590905174612999, 0.9317440986633301, 0.06754127889871597, 0.9929776787757874], \"Term\": [\"abortion\", \"absolutely\", \"address\", \"advocate\", \"affordable\", \"agree\", \"air\", \"alaska\", \"alaskan\", \"already\", \"also\", \"also\", \"also\", \"america\", \"american\", \"answer\", \"area\", \"art\", \"attack\", \"back\", \"based\", \"based\", \"bc\", \"bear\", \"became\", \"behavior\", \"believe\", \"believe\", \"benefit\", \"bet\", \"bike\", \"bill\", \"bill\", \"bill\", \"billion\", \"black\", \"blood\", \"board\", \"break\", \"broken\", \"budget\", \"business\", \"buy\", \"called\", \"camp\", \"campaign\", \"canada\", \"canadian\", \"candidate\", \"cannot\", \"cannot\", \"car\", \"care\", \"catholic\", \"china\", \"christian\", \"church\", \"citizen\", \"city\", \"civil\", \"claim\", \"climate\", \"clinton\", \"column\", \"coming\", \"comment\", \"common\", \"company\", \"conservative\", \"control\", \"corporate\", \"cost\", \"could\", \"couldnt\", \"country\", \"court\", \"criminal\", \"cut\", \"data\", \"death\", \"decided\", \"decision\", \"deep\", \"demand\", \"democrat\", \"democratic\", \"director\", \"disagree\", \"district\", \"dividend\", \"dollar\", \"donald\", \"dont\", \"driver\", \"economic\", \"economy\", \"effect\", \"election\", \"else\", \"employee\", \"energy\", \"enough\", \"enough\", \"even\", \"everybody\", \"evidence\", \"eye\", \"fake\", \"federal\", \"fewer\", \"find\", \"flight\", \"food\", \"fund\", \"funny\", \"gas\", \"gave\", \"german\", \"get\", \"global\", \"go\", \"god\", \"going\", \"good\", \"government\", \"governor\", \"happy\", \"hawaii\", \"hawaiian\", \"health\", \"healthcare\", \"healthy\", \"hear\", \"heart\", \"high\", \"high\", \"high\", \"hillary\", \"hour\", \"however\", \"hundred\", \"ignore\", \"illegal\", \"im\", \"immigration\", \"income\", \"increase\", \"industry\", \"information\", \"interest\", \"island\", \"israel\", \"ive\", \"job\", \"job\", \"john\", \"john\", \"kid\", \"knew\", \"know\", \"language\", \"law\", \"law\", \"leader\", \"leftist\", \"legal\", \"legislature\", \"liberal\", \"lie\", \"life\", \"like\", \"limit\", \"logic\", \"lose\", \"majority\", \"make\", \"man\", \"man\", \"many\", \"market\", \"medium\", \"meeting\", \"meeting\", \"member\", \"men\", \"mental\", \"mile\", \"military\", \"million\", \"money\", \"mother\", \"much\", \"muslim\", \"must\", \"nation\", \"national\", \"native\", \"nature\", \"ndp\", \"need\", \"never\", \"news\", \"none\", \"obama\", \"office\", \"officer\", \"oh\", \"oil\", \"old\", \"one\", \"opinion\", \"order\", \"others\", \"paid\", \"park\", \"particularly\", \"party\", \"past\", \"pay\", \"paying\", \"people\", \"per\", \"percent\", \"permanent\", \"player\", \"political\", \"political\", \"poor\", \"poor\", \"population\", \"post\", \"power\", \"power\", \"power\", \"practice\", \"president\", \"price\", \"priest\", \"private\", \"project\", \"promise\", \"proper\", \"property\", \"prove\", \"province\", \"race\", \"racism\", \"racist\", \"rail\", \"rate\", \"read\", \"read\", \"really\", \"recall\", \"recent\", \"reference\", \"report\", \"republican\", \"response\", \"right\", \"right\", \"road\", \"room\", \"rule\", \"russian\", \"sale\", \"say\", \"say\", \"seat\", \"see\", \"senate\", \"senator\", \"sent\", \"sentence\", \"seriously\", \"service\", \"sex\", \"sexual\", \"sick\", \"side\", \"simply\", \"simply\", \"single\", \"sitting\", \"size\", \"social\", \"something\", \"source\", \"south\", \"space\", \"state\", \"state\", \"statement\", \"statue\", \"stock\", \"study\", \"support\", \"support\", \"supporter\", \"system\", \"system\", \"system\", \"take\", \"tax\", \"taxpayer\", \"tell\", \"terrorist\", \"thank\", \"thing\", \"think\", \"time\", \"tired\", \"together\", \"tough\", \"trade\", \"truck\", \"trudeau\", \"true\", \"trump\", \"truth\", \"u\", \"understand\", \"united\", \"using\", \"using\", \"vote\", \"voted\", \"voter\", \"voting\", \"wage\", \"wait\", \"want\", \"wanted\", \"war\", \"waste\", \"water\", \"way\", \"well\", \"western\", \"white\", \"wife\", \"willing\", \"wish\", \"woman\", \"word\", \"work\", \"worker\", \"world\", \"world\", \"would\", \"written\", \"year\", \"year\", \"yet\", \"yet\", \"youd\"]}, \"R\": 30, \"lambda.step\": 0.01, \"plot.opts\": {\"xlab\": \"PC1\", \"ylab\": \"PC2\"}, \"topic.order\": [10, 9, 4, 3, 7, 8, 5, 1, 2, 6]};\n",
       "\n",
       "function LDAvis_load_lib(url, callback){\n",
       "  var s = document.createElement('script');\n",
       "  s.src = url;\n",
       "  s.async = true;\n",
       "  s.onreadystatechange = s.onload = callback;\n",
       "  s.onerror = function(){console.warn(\"failed to load library \" + url);};\n",
       "  document.getElementsByTagName(\"head\")[0].appendChild(s);\n",
       "}\n",
       "\n",
       "if(typeof(LDAvis) !== \"undefined\"){\n",
       "   // already loaded: just create the visualization\n",
       "   !function(LDAvis){\n",
       "       new LDAvis(\"#\" + \"ldavis_el1540825211902089689403361994\", ldavis_el1540825211902089689403361994_data);\n",
       "   }(LDAvis);\n",
       "}else if(typeof define === \"function\" && define.amd){\n",
       "   // require.js is available: use it to load d3/LDAvis\n",
       "   require.config({paths: {d3: \"https://cdnjs.cloudflare.com/ajax/libs/d3/3.5.5/d3.min\"}});\n",
       "   require([\"d3\"], function(d3){\n",
       "      window.d3 = d3;\n",
       "      LDAvis_load_lib(\"https://cdn.rawgit.com/bmabey/pyLDAvis/files/ldavis.v1.0.0.js\", function(){\n",
       "        new LDAvis(\"#\" + \"ldavis_el1540825211902089689403361994\", ldavis_el1540825211902089689403361994_data);\n",
       "      });\n",
       "    });\n",
       "}else{\n",
       "    // require.js not available: dynamically load d3 & LDAvis\n",
       "    LDAvis_load_lib(\"https://cdnjs.cloudflare.com/ajax/libs/d3/3.5.5/d3.min.js\", function(){\n",
       "         LDAvis_load_lib(\"https://cdn.rawgit.com/bmabey/pyLDAvis/files/ldavis.v1.0.0.js\", function(){\n",
       "                 new LDAvis(\"#\" + \"ldavis_el1540825211902089689403361994\", ldavis_el1540825211902089689403361994_data);\n",
       "            })\n",
       "         });\n",
       "}\n",
       "</script>"
      ],
      "text/plain": [
       "PreparedData(topic_coordinates=              x         y  topics  cluster       Freq\n",
       "topic                                                \n",
       "9      0.380575 -0.190523       1        1  42.829041\n",
       "8      0.140765  0.373745       2        1  12.485678\n",
       "3      0.122538  0.085767       3        1  11.037224\n",
       "2      0.017374 -0.158068       4        1   8.316924\n",
       "6     -0.069736 -0.000068       5        1   6.240893\n",
       "7     -0.085984 -0.056033       6        1   5.907856\n",
       "4     -0.096026 -0.003143       7        1   5.149526\n",
       "0     -0.125316 -0.019815       8        1   3.904479\n",
       "1     -0.141765 -0.016242       9        1   2.185019\n",
       "5     -0.142425 -0.015619      10        1   1.943367, topic_info=     Category         Freq       Term        Total  loglift  logprob\n",
       "283   Default  6867.000000      trump  6867.000000  30.0000  30.0000\n",
       "75    Default  6029.000000          u  6029.000000  29.0000  29.0000\n",
       "72    Default  3866.000000        tax  3866.000000  28.0000  28.0000\n",
       "59    Default  9970.000000     people  9970.000000  27.0000  27.0000\n",
       "392   Default  4033.000000      state  4033.000000  26.0000  26.0000\n",
       "...       ...          ...        ...          ...      ...      ...\n",
       "3351  Topic10   155.120544    sitting   156.060715   3.9347  -5.1193\n",
       "3347  Topic10   155.102982  permanent   156.043091   3.9347  -5.1194\n",
       "6132  Topic10   144.240936   director   145.181137   3.9343  -5.1920\n",
       "2167  Topic10   139.990051    leftist   140.930252   3.9341  -5.2219\n",
       "2357  Topic10   139.363541      fewer   140.303726   3.9340  -5.2264\n",
       "\n",
       "[355 rows x 6 columns], token_table=      Topic      Freq        Term\n",
       "term                             \n",
       "2335      8  0.996819    abortion\n",
       "972       5  0.998127  absolutely\n",
       "1163      7  0.997514     address\n",
       "1635     10  0.996442    advocate\n",
       "731       9  0.992532  affordable\n",
       "...     ...       ...         ...\n",
       "221       1  0.993937        year\n",
       "221       4  0.005909        year\n",
       "1764      2  0.931744         yet\n",
       "1764      3  0.067541         yet\n",
       "7294      9  0.992978        youd\n",
       "\n",
       "[356 rows x 3 columns], R=30, lambda_step=0.01, plot_opts={'xlab': 'PC1', 'ylab': 'PC2'}, topic_order=[10, 9, 4, 3, 7, 8, 5, 1, 2, 6])"
      ]
     },
     "execution_count": 128,
     "metadata": {},
     "output_type": "execute_result"
    }
   ],
   "source": [
    "pyLDAvis.gensim.prepare(lda_model, corpus, dictionary)"
   ]
  },
  {
   "cell_type": "code",
   "execution_count": 129,
   "metadata": {},
   "outputs": [
    {
     "name": "stdout",
     "output_type": "stream",
     "text": [
      "------ Topic 0 ------\n",
      "alaska fund control hawaii coming alaskan sex john funny native\n",
      "\n",
      "------ Topic 1 ------\n",
      "god common sexual break global ignore gave heart language limit\n",
      "\n",
      "------ Topic 2 ------\n",
      "tax money pay care business cost million system company service\n",
      "\n",
      "------ Topic 3 ------\n",
      "law woman comment believe man find read post white must\n",
      "\n",
      "------ Topic 4 ------\n",
      "trump president news clinton medium lie hillary russian campaign evidence\n",
      "\n",
      "------ Topic 5 ------\n",
      "immigration wage worker sale demand wanted percent park healthcare province\n",
      "\n",
      "------ Topic 6 ------\n",
      "city oil using area industry thank ive trade water food\n",
      "\n",
      "------ Topic 7 ------\n",
      "vote party republican election conservative political member voter democrat attack\n",
      "\n",
      "------ Topic 8 ------\n",
      "u state government country canada world canadian liberal job american\n",
      "\n",
      "------ Topic 9 ------\n",
      "people would one like get dont time year need know\n",
      "\n"
     ]
    }
   ],
   "source": [
    "words = [re.findall(r'\"([^\"]*)\"',t[1]) for t in lda_model.print_topics()]\n",
    "\n",
    "topics = [' '.join(t[0:10]) for t in words]\n",
    "\n",
    "# Getting the topics\n",
    "for id, t in enumerate(topics): \n",
    "    print(f\"------ Topic {id} ------\")\n",
    "    print(t, end=\"\\n\\n\")"
   ]
  },
  {
   "cell_type": "code",
   "execution_count": null,
   "metadata": {},
   "outputs": [],
   "source": []
  }
 ],
 "metadata": {
  "kernelspec": {
   "display_name": "Python 3",
   "language": "python",
   "name": "python3"
  },
  "language_info": {
   "codemirror_mode": {
    "name": "ipython",
    "version": 3
   },
   "file_extension": ".py",
   "mimetype": "text/x-python",
   "name": "python",
   "nbconvert_exporter": "python",
   "pygments_lexer": "ipython3",
   "version": "3.7.4"
  }
 },
 "nbformat": 4,
 "nbformat_minor": 2
}
